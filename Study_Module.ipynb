{
 "cells": [
  {
   "cell_type": "markdown",
   "metadata": {},
   "source": [
    "### 모듈"
   ]
  },
  {
   "cell_type": "code",
   "execution_count": 22,
   "metadata": {},
   "outputs": [
    {
     "name": "stdout",
     "output_type": "stream",
     "text": [
      "Overwriting myFirstModule.py\n"
     ]
    }
   ],
   "source": [
    "%%writefile myFirstModule.py \n",
    "# 모듈 생성\n",
    "\n",
    "def myFunc():\n",
    "    print(\"This is my first module.\")"
   ]
  },
  {
   "cell_type": "code",
   "execution_count": 2,
   "metadata": {},
   "outputs": [
    {
     "name": "stdout",
     "output_type": "stream",
     "text": [
      "\n",
      "def myFunc():\n",
      "    print(\"This is my first module.\")\n"
     ]
    }
   ],
   "source": [
    "# 느낌표가 들어간 명령어는 시스템 명령어\n",
    "!type myFirstModule.py"
   ]
  },
  {
   "cell_type": "code",
   "execution_count": 3,
   "metadata": {},
   "outputs": [
    {
     "name": "stdout",
     "output_type": "stream",
     "text": [
      "This is my first module.\n"
     ]
    }
   ],
   "source": [
    "# 모듈 불러오기\n",
    "import myFirstModule\n",
    "\n",
    "myFirstModule.myFunc()"
   ]
  },
  {
   "cell_type": "code",
   "execution_count": 18,
   "metadata": {},
   "outputs": [
    {
     "name": "stdout",
     "output_type": "stream",
     "text": [
      "C:\\Users\\GroundPark\\Documents\\Jupyter\\packages;C:\\Users\\GroundPark\\Documents\\Jupyter\\modules\n"
     ]
    }
   ],
   "source": [
    "# 모듈의 경로는 PYTHONPATH 환경 변수 설정을 통해 지정\n",
    "!echo %PYTHONPATH%"
   ]
  },
  {
   "cell_type": "code",
   "execution_count": 16,
   "metadata": {},
   "outputs": [
    {
     "name": "stdout",
     "output_type": "stream",
     "text": [
      "Overwriting C:\\Users\\GroundPark\\Documents\\Jupyter\\modules\\my_area2.py\n"
     ]
    }
   ],
   "source": [
    "%%writefile C:\\Users\\GroundPark\\Documents\\Jupyter\\modules\\my_area2.py\n",
    "    \n",
    "PI = 3.14\n",
    "def square_area(a):\n",
    "    return a**2\n",
    "    \n",
    "def circle_area(r):\n",
    "    return PI * r**2\n",
    "    "
   ]
  },
  {
   "cell_type": "code",
   "execution_count": 25,
   "metadata": {},
   "outputs": [
    {
     "name": "stdout",
     "output_type": "stream",
     "text": [
      "C:\\Users\\GroundPark\\Documents\\Jupyter\n"
     ]
    }
   ],
   "source": [
    "cd C:\\Users\\GroundPark\\Documents\\Jupyter"
   ]
  },
  {
   "cell_type": "code",
   "execution_count": 26,
   "metadata": {},
   "outputs": [
    {
     "name": "stdout",
     "output_type": "stream",
     "text": [
      "pi = 3.14\n",
      "square area = 25\n",
      "circle area = 78.5\n"
     ]
    }
   ],
   "source": [
    "import my_area2 # 모듈 불러오기\n",
    "\n",
    "print(\"pi =\", my_area.PI) # 모듈의 변수 이용\n",
    "print(\"square area =\", my_area2.square_area(5)) # 모듈의 함수 이용\n",
    "print(\"circle area =\", my_area2.circle_area(5)) # 모듈의 함수 이용"
   ]
  },
  {
   "cell_type": "code",
   "execution_count": 28,
   "metadata": {},
   "outputs": [
    {
     "data": {
      "text/plain": [
       "['PI',\n",
       " '__builtins__',\n",
       " '__cached__',\n",
       " '__doc__',\n",
       " '__file__',\n",
       " '__loader__',\n",
       " '__name__',\n",
       " '__package__',\n",
       " '__spec__',\n",
       " 'circle_area',\n",
       " 'square_area']"
      ]
     },
     "execution_count": 28,
     "metadata": {},
     "output_type": "execute_result"
    }
   ],
   "source": [
    "# 모듈의 구성 알아보기(변수,함수,클래스)\n",
    "dir(my_area2)"
   ]
  },
  {
   "cell_type": "code",
   "execution_count": 30,
   "metadata": {},
   "outputs": [
    {
     "name": "stdout",
     "output_type": "stream",
     "text": [
      "pi =  3.14\n"
     ]
    }
   ],
   "source": [
    "# 모듈 더 직관적으로 불러오고 사용하기\n",
    "# 모듈 내 변수,함수,클래스를 가져온다\n",
    "from my_area2 import PI # 변수 바로 불러오기\n",
    "\n",
    "print(\"pi = \", PI)"
   ]
  },
  {
   "cell_type": "code",
   "execution_count": 32,
   "metadata": {},
   "outputs": [
    {
     "name": "stdout",
     "output_type": "stream",
     "text": [
      "pi = 3.14\n",
      "square area = 25\n",
      "circle area = 12.56\n"
     ]
    }
   ],
   "source": [
    "from my_area2 import PI, square_area, circle_area # 여러개 불러오기\n",
    "\n",
    "print(\"pi =\", PI) \n",
    "print(\"square area =\", square_area(5))\n",
    "print(\"circle area =\", circle_area(2))"
   ]
  },
  {
   "cell_type": "code",
   "execution_count": 38,
   "metadata": {},
   "outputs": [
    {
     "name": "stdout",
     "output_type": "stream",
     "text": [
      "pi = 3.14\n",
      "square area = 25\n",
      "circle area = 28.26\n"
     ]
    }
   ],
   "source": [
    "from my_area2 import * # 모듈의 모든 변수,함수,클래스 이용\n",
    "\n",
    "print(\"pi =\", PI) \n",
    "print(\"square area =\", square_area(5))\n",
    "print(\"circle area =\", circle_area(3))"
   ]
  },
  {
   "cell_type": "code",
   "execution_count": 23,
   "metadata": {},
   "outputs": [
    {
     "name": "stdout",
     "output_type": "stream",
     "text": [
      "Overwriting C:\\Users\\GroundPark\\Documents\\Jupyter\\modules\\my_module1.py\n"
     ]
    }
   ],
   "source": [
    "%%writefile C:\\Users\\GroundPark\\Documents\\Jupyter\\modules\\my_module1.py\n",
    "# import * 이런식으로 사용할 때는 편하지만 모듈을 두 개 이상 사용할때는 주의가 필요\n",
    "# %%writefile 이전에 주석도 넣으면 인식 못함\n",
    "\n",
    "def func1():\n",
    "    print(\"func1 in my_module1\")\n",
    "        \n",
    "def func2():\n",
    "    print(\"func2 in my_module1\")"
   ]
  },
  {
   "cell_type": "code",
   "execution_count": 25,
   "metadata": {},
   "outputs": [
    {
     "name": "stdout",
     "output_type": "stream",
     "text": [
      "Overwriting C:\\Users\\GroundPark\\Documents\\Jupyter\\modules\\my_module2.py\n"
     ]
    }
   ],
   "source": [
    "%%writefile C:\\Users\\GroundPark\\Documents\\Jupyter\\modules\\my_module2.py\n",
    "\n",
    "def func2():\n",
    "    print(\"func1 in my_module2\")\n",
    "        \n",
    "def func3():\n",
    "    print(\"func2 in my_module2\")"
   ]
  },
  {
   "cell_type": "code",
   "execution_count": 26,
   "metadata": {},
   "outputs": [
    {
     "name": "stdout",
     "output_type": "stream",
     "text": [
      "func1 in my_module1\n",
      "func1 in my_module2\n",
      "func2 in my_module2\n"
     ]
    }
   ],
   "source": [
    "from my_module1 import *\n",
    "from my_module2 import *\n",
    "\n",
    "func1()\n",
    "func2() # func2가 my_module1 과 my_module2에 중복으로 존재해서 마지막걸로 가져옴\n",
    "func3()"
   ]
  },
  {
   "cell_type": "code",
   "execution_count": 27,
   "metadata": {},
   "outputs": [
    {
     "name": "stdout",
     "output_type": "stream",
     "text": [
      "pi = 3.14\n",
      "square area = 25\n",
      "circle area = 28.26\n"
     ]
    }
   ],
   "source": [
    "import my_area as area #모듈명에 별명(area)을 붙임\n",
    "\n",
    "print(\"pi =\", area.PI) \n",
    "print(\"square area =\", area.square_area(5))\n",
    "print(\"circle area =\", area.circle_area(3))"
   ]
  },
  {
   "cell_type": "code",
   "execution_count": 28,
   "metadata": {},
   "outputs": [
    {
     "name": "stdout",
     "output_type": "stream",
     "text": [
      "pi = 3.14\n",
      "square area = 25\n",
      "circle area = 28.26\n"
     ]
    }
   ],
   "source": [
    "from my_area import PI as Pie\n",
    "from my_area import square_area as square\n",
    "from my_area import circle_area as circle\n",
    "\n",
    "print(\"pi =\", Pie) # 모듈 변수의 별명 이용\n",
    "print(\"square area =\", square(5)) # 모듈 함수의 별명 이용\n",
    "print(\"circle area =\", circle(3))"
   ]
  },
  {
   "cell_type": "code",
   "execution_count": 29,
   "metadata": {},
   "outputs": [
    {
     "name": "stdout",
     "output_type": "stream",
     "text": [
      "Writing C:\\Users\\GroundPark\\Documents\\Jupyter\\modules\\my_module_test1.py\n"
     ]
    }
   ],
   "source": [
    "%%writefile C:\\Users\\GroundPark\\Documents\\Jupyter\\modules\\my_module_test1.py\n",
    "# 모듈을 직접 실행하는 경우와 임포트한 후 실행하는 경우 구분하기\n",
    "\n",
    "def func(a):\n",
    "    print(\"입력숫자 : \", a)\n",
    "    \n",
    "func(5)"
   ]
  },
  {
   "cell_type": "code",
   "execution_count": 31,
   "metadata": {},
   "outputs": [
    {
     "name": "stdout",
     "output_type": "stream",
     "text": [
      "입력숫자 :  5\n"
     ]
    }
   ],
   "source": [
    "%run C:\\Users\\GroundPark\\Documents\\Jupyter\\modules\\my_module_test1"
   ]
  },
  {
   "cell_type": "code",
   "execution_count": 32,
   "metadata": {},
   "outputs": [
    {
     "name": "stdout",
     "output_type": "stream",
     "text": [
      "입력숫자 :  5\n"
     ]
    }
   ],
   "source": [
    "import my_module_test1 # Import만 해도"
   ]
  },
  {
   "cell_type": "code",
   "execution_count": 34,
   "metadata": {},
   "outputs": [],
   "source": [
    "import my_module_test1 # 'import 모듈명'으로 한번 불러온 모듈은 다시 선언하면 반영되지 않음, 따라서 모듈을\n",
    "                       # 한번 부른 이후에 해당 모듈이 수정된 경우 수정된 내용을 반영하기 위해서는 파이썬 콘솔이나\n",
    "                       # IPython 프로그램을 다시 시작해야 함"
   ]
  },
  {
   "cell_type": "code",
   "execution_count": 1,
   "metadata": {},
   "outputs": [
    {
     "name": "stdout",
     "output_type": "stream",
     "text": [
      "Overwriting C:\\Users\\GroundPark\\Documents\\Jupyter\\modules\\my_module_test2.py\n"
     ]
    }
   ],
   "source": [
    "%%writefile C:\\Users\\GroundPark\\Documents\\Jupyter\\modules\\my_module_test2.py\n",
    "    \n",
    "def func(a):\n",
    "    print(\"입력숫자 : \", a)\n",
    "\n",
    "if __name__ == \"__main__\": # 코드를 직접 수행할 때만 인식하고, 임포트해서 사용하면 수행하지 않음\n",
    "    print(\"모듈을 직접 실행\")\n",
    "    func(3)\n",
    "    func(4)\n",
    "else:\n",
    "    print(\"Import네~\")"
   ]
  },
  {
   "cell_type": "code",
   "execution_count": 2,
   "metadata": {},
   "outputs": [
    {
     "name": "stdout",
     "output_type": "stream",
     "text": [
      "모듈을 직접 실행\n",
      "입력숫자 :  3\n",
      "입력숫자 :  4\n"
     ]
    }
   ],
   "source": [
    "%run C:\\Users\\GroundPark\\Documents\\Jupyter\\modules\\my_module_test2.py"
   ]
  },
  {
   "cell_type": "code",
   "execution_count": 8,
   "metadata": {},
   "outputs": [],
   "source": [
    "import my_module_test2 # else부분 실행되네~"
   ]
  },
  {
   "cell_type": "code",
   "execution_count": 17,
   "metadata": {},
   "outputs": [
    {
     "name": "stdout",
     "output_type": "stream",
     "text": [
      "0.3857533184123083\n",
      "34\n",
      "30\n",
      "축\n",
      "['묘', '자']\n"
     ]
    }
   ],
   "source": [
    "## 내장모듈 활용 ##\n",
    "import random # 난수 발생 모듈\n",
    "\n",
    "print(random.random())\n",
    "print(random.randint(1,100))\n",
    "print(random.randrange(0,100, 5))\n",
    "print(random.choice([\"자\",\"축\",\"인\",\"묘\"])) # 모집단에서 하나만 초이스\n",
    "print(random.sample([\"자\",\"축\",\"인\",\"묘\"], 2)) # 모집단에서 n개의 샘플인자 선택"
   ]
  },
  {
   "cell_type": "code",
   "execution_count": 22,
   "metadata": {},
   "outputs": [
    {
     "name": "stdout",
     "output_type": "stream",
     "text": [
      "2019-08-08\n",
      "2019\n",
      "8\n",
      "8\n"
     ]
    }
   ],
   "source": [
    "# 날짜 및 시간 관련\n",
    "import datetime\n",
    "\n",
    "set_day = datetime.date(2019,8,8) # 날짜 세팅\n",
    "print(set_day)\n",
    "print(set_day.year)\n",
    "print(set_day.month)\n",
    "print(set_day.day)"
   ]
  },
  {
   "cell_type": "code",
   "execution_count": 25,
   "metadata": {},
   "outputs": [
    {
     "name": "stdout",
     "output_type": "stream",
     "text": [
      "167 days, 0:00:00\n"
     ]
    }
   ],
   "source": [
    "import datetime\n",
    "\n",
    "day1 = datetime.date(2019,2,23)\n",
    "day2 = datetime.date(2019,8,9)\n",
    "\n",
    "diff_day = day2 - day1 # 날짜끼리 연산 가능\n",
    "print(diff_day)"
   ]
  },
  {
   "cell_type": "code",
   "execution_count": 26,
   "metadata": {},
   "outputs": [
    {
     "name": "stdout",
     "output_type": "stream",
     "text": [
      "2019-08-09\n"
     ]
    }
   ],
   "source": [
    "import datetime\n",
    "\n",
    "print(datetime.date.today()) # 현재 날짜"
   ]
  },
  {
   "cell_type": "code",
   "execution_count": 33,
   "metadata": {},
   "outputs": [
    {
     "name": "stdout",
     "output_type": "stream",
     "text": [
      "15:30:45\n",
      "2019-08-09 21:59:45\n",
      "21\n",
      "59\n",
      "45\n",
      "2019-08-09 22:02:32.540122\n"
     ]
    }
   ],
   "source": [
    "import datetime\n",
    "\n",
    "set_time = datetime.time(15,30,45) # 시간 세팅\n",
    "print(set_time)\n",
    "\n",
    "set_dt = datetime.datetime(2019, 8, 9, 21, 59, 45) # 날짜와 시간을 모두 다룰 수 있는 datetime 클래스\n",
    "print(set_dt)\n",
    "print(set_dt.hour)\n",
    "print(set_dt.minute)\n",
    "print(set_dt.second)\n",
    "\n",
    "print(datetime.datetime.now()) # 현재 시각, datetime 모듈 내 datetime 클래스의 now 메서드"
   ]
  },
  {
   "cell_type": "code",
   "execution_count": 48,
   "metadata": {},
   "outputs": [
    {
     "name": "stdout",
     "output_type": "stream",
     "text": [
      "Date & Time: 19-08-09, 22:09:47\n",
      "Date: 2019, 08, 09\n",
      "Time: 22:09:47\n"
     ]
    }
   ],
   "source": [
    "import datetime\n",
    "\n",
    "Localnow = datetime.datetime.now()\n",
    "\n",
    "print(\"Date & Time: {:%y-%m-%d, %H:%M:%S}\".format(Localnow))\n",
    "print(\"Date: {:%Y, %m, %d}\".format(Localnow))\n",
    "print(\"Time: {:%H:%M:%S}\".format(Localnow))"
   ]
  },
  {
   "cell_type": "code",
   "execution_count": 50,
   "metadata": {},
   "outputs": [
    {
     "name": "stdout",
     "output_type": "stream",
     "text": [
      "현재 날짜 및 시각:  2019-08-09 22:11:53.995376\n",
      "차이:  -1317 days, 10:00:51.004624\n"
     ]
    }
   ],
   "source": [
    "import datetime\n",
    "\n",
    "Localnow = datetime.datetime.now()\n",
    "set_dt = datetime.datetime(2016, 1, 1, 8, 12, 45)\n",
    "\n",
    "print(\"현재 날짜 및 시각: \", Localnow)\n",
    "print(\"차이: \", set_dt - Localnow)"
   ]
  },
  {
   "cell_type": "code",
   "execution_count": 52,
   "metadata": {},
   "outputs": [
    {
     "name": "stdout",
     "output_type": "stream",
     "text": [
      "2019-09-15\n",
      "22:15:12\n",
      "2019-09-15 16:12:46\n",
      "2019-08-09 22:13:25.652339\n"
     ]
    }
   ],
   "source": [
    "from datetime import date, time, datetime # 모듈 내 클래스만 가져오기\n",
    "\n",
    "print(date(2019,9,15))\n",
    "print(time(22, 15, 12))\n",
    "print(datetime(2019,9,15, 16, 12, 46))\n",
    "print(datetime.now())\n"
   ]
  },
  {
   "cell_type": "code",
   "execution_count": 57,
   "metadata": {},
   "outputs": [
    {
     "name": "stdout",
     "output_type": "stream",
     "text": [
      "                                  2019\n",
      "\n",
      "      January                   February                   March\n",
      "Mo Tu We Th Fr Sa Su      Mo Tu We Th Fr Sa Su      Mo Tu We Th Fr Sa Su\n",
      "    1  2  3  4  5  6                   1  2  3                   1  2  3\n",
      " 7  8  9 10 11 12 13       4  5  6  7  8  9 10       4  5  6  7  8  9 10\n",
      "14 15 16 17 18 19 20      11 12 13 14 15 16 17      11 12 13 14 15 16 17\n",
      "21 22 23 24 25 26 27      18 19 20 21 22 23 24      18 19 20 21 22 23 24\n",
      "28 29 30 31               25 26 27 28               25 26 27 28 29 30 31\n",
      "\n",
      "       April                      May                       June\n",
      "Mo Tu We Th Fr Sa Su      Mo Tu We Th Fr Sa Su      Mo Tu We Th Fr Sa Su\n",
      " 1  2  3  4  5  6  7             1  2  3  4  5                      1  2\n",
      " 8  9 10 11 12 13 14       6  7  8  9 10 11 12       3  4  5  6  7  8  9\n",
      "15 16 17 18 19 20 21      13 14 15 16 17 18 19      10 11 12 13 14 15 16\n",
      "22 23 24 25 26 27 28      20 21 22 23 24 25 26      17 18 19 20 21 22 23\n",
      "29 30                     27 28 29 30 31            24 25 26 27 28 29 30\n",
      "\n",
      "        July                     August                  September\n",
      "Mo Tu We Th Fr Sa Su      Mo Tu We Th Fr Sa Su      Mo Tu We Th Fr Sa Su\n",
      " 1  2  3  4  5  6  7                1  2  3  4                         1\n",
      " 8  9 10 11 12 13 14       5  6  7  8  9 10 11       2  3  4  5  6  7  8\n",
      "15 16 17 18 19 20 21      12 13 14 15 16 17 18       9 10 11 12 13 14 15\n",
      "22 23 24 25 26 27 28      19 20 21 22 23 24 25      16 17 18 19 20 21 22\n",
      "29 30 31                  26 27 28 29 30 31         23 24 25 26 27 28 29\n",
      "                                                    30\n",
      "\n",
      "      October                   November                  December\n",
      "Mo Tu We Th Fr Sa Su      Mo Tu We Th Fr Sa Su      Mo Tu We Th Fr Sa Su\n",
      "    1  2  3  4  5  6                   1  2  3                         1\n",
      " 7  8  9 10 11 12 13       4  5  6  7  8  9 10       2  3  4  5  6  7  8\n",
      "14 15 16 17 18 19 20      11 12 13 14 15 16 17       9 10 11 12 13 14 15\n",
      "21 22 23 24 25 26 27      18 19 20 21 22 23 24      16 17 18 19 20 21 22\n",
      "28 29 30 31               25 26 27 28 29 30         23 24 25 26 27 28 29\n",
      "                                                    30 31\n",
      "\n"
     ]
    }
   ],
   "source": [
    "## 달력 생성 및 처리 모듈 ##\n",
    "import calendar\n",
    "\n",
    "print(calendar.calendar(2019))"
   ]
  },
  {
   "cell_type": "code",
   "execution_count": 64,
   "metadata": {},
   "outputs": [
    {
     "name": "stdout",
     "output_type": "stream",
     "text": [
      "                                                            2019\n",
      "\n",
      "      January                   February                   March                     April                      May\n",
      "Mo Tu We Th Fr Sa Su      Mo Tu We Th Fr Sa Su      Mo Tu We Th Fr Sa Su      Mo Tu We Th Fr Sa Su      Mo Tu We Th Fr Sa Su\n",
      "    1  2  3  4  5  6                   1  2  3                   1  2  3       1  2  3  4  5  6  7             1  2  3  4  5\n",
      " 7  8  9 10 11 12 13       4  5  6  7  8  9 10       4  5  6  7  8  9 10       8  9 10 11 12 13 14       6  7  8  9 10 11 12\n",
      "14 15 16 17 18 19 20      11 12 13 14 15 16 17      11 12 13 14 15 16 17      15 16 17 18 19 20 21      13 14 15 16 17 18 19\n",
      "21 22 23 24 25 26 27      18 19 20 21 22 23 24      18 19 20 21 22 23 24      22 23 24 25 26 27 28      20 21 22 23 24 25 26\n",
      "28 29 30 31               25 26 27 28               25 26 27 28 29 30 31      29 30                     27 28 29 30 31\n",
      "\n",
      "        June                      July                     August                  September                  October\n",
      "Mo Tu We Th Fr Sa Su      Mo Tu We Th Fr Sa Su      Mo Tu We Th Fr Sa Su      Mo Tu We Th Fr Sa Su      Mo Tu We Th Fr Sa Su\n",
      "                1  2       1  2  3  4  5  6  7                1  2  3  4                         1          1  2  3  4  5  6\n",
      " 3  4  5  6  7  8  9       8  9 10 11 12 13 14       5  6  7  8  9 10 11       2  3  4  5  6  7  8       7  8  9 10 11 12 13\n",
      "10 11 12 13 14 15 16      15 16 17 18 19 20 21      12 13 14 15 16 17 18       9 10 11 12 13 14 15      14 15 16 17 18 19 20\n",
      "17 18 19 20 21 22 23      22 23 24 25 26 27 28      19 20 21 22 23 24 25      16 17 18 19 20 21 22      21 22 23 24 25 26 27\n",
      "24 25 26 27 28 29 30      29 30 31                  26 27 28 29 30 31         23 24 25 26 27 28 29      28 29 30 31\n",
      "                                                                              30\n",
      "\n",
      "      November                  December\n",
      "Mo Tu We Th Fr Sa Su      Mo Tu We Th Fr Sa Su\n",
      "             1  2  3                         1\n",
      " 4  5  6  7  8  9 10       2  3  4  5  6  7  8\n",
      "11 12 13 14 15 16 17       9 10 11 12 13 14 15\n",
      "18 19 20 21 22 23 24      16 17 18 19 20 21 22\n",
      "25 26 27 28 29 30         23 24 25 26 27 28 29\n",
      "                          30 31\n",
      "\n"
     ]
    }
   ],
   "source": [
    "print(calendar.calendar(2019, m=5)) # 열이 5개"
   ]
  },
  {
   "cell_type": "code",
   "execution_count": 66,
   "metadata": {},
   "outputs": [
    {
     "name": "stdout",
     "output_type": "stream",
     "text": [
      "    August 2019\n",
      "Mo Tu We Th Fr Sa Su\n",
      "          1  2  3  4\n",
      " 5  6  7  8  9 10 11\n",
      "12 13 14 15 16 17 18\n",
      "19 20 21 22 23 24 25\n",
      "26 27 28 29 30 31\n",
      "\n"
     ]
    }
   ],
   "source": [
    "print(calendar.month(2019, 8))"
   ]
  },
  {
   "cell_type": "code",
   "execution_count": 70,
   "metadata": {},
   "outputs": [
    {
     "data": {
      "text/plain": [
       "0"
      ]
     },
     "execution_count": 70,
     "metadata": {},
     "output_type": "execute_result"
    }
   ],
   "source": [
    "calendar.firstweekday() # 일주일의 시작요일 -> 0(월) 1(화) ...6(일)"
   ]
  },
  {
   "cell_type": "code",
   "execution_count": 73,
   "metadata": {},
   "outputs": [
    {
     "name": "stdout",
     "output_type": "stream",
     "text": [
      "6\n"
     ]
    }
   ],
   "source": [
    "print(calendar.weekday(1990,8,19)) # 해당 날짜의 요일을 나타냄"
   ]
  },
  {
   "cell_type": "code",
   "execution_count": null,
   "metadata": {},
   "outputs": [],
   "source": []
  }
 ],
 "metadata": {
  "kernelspec": {
   "display_name": "Python 3",
   "language": "python",
   "name": "python3"
  },
  "language_info": {
   "codemirror_mode": {
    "name": "ipython",
    "version": 3
   },
   "file_extension": ".py",
   "mimetype": "text/x-python",
   "name": "python",
   "nbconvert_exporter": "python",
   "pygments_lexer": "ipython3",
   "version": "3.7.3"
  }
 },
 "nbformat": 4,
 "nbformat_minor": 2
}
