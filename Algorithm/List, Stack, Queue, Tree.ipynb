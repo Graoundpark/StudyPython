{
 "cells": [
  {
   "cell_type": "code",
   "execution_count": 1,
   "metadata": {},
   "outputs": [],
   "source": [
    "## 연결 리스트\n",
    "# C++에서는 포인트의 개념으로 링크를 사용하겠지만 파이썬에서는 그조차도 필요가 없다\n",
    "# 연결 리스트와 배열의 차이는 배열은 연속된 메모리를 사용하지만, 연결 리스트는 반드시 연속적이라고는 볼 수 없다.\n",
    "# 오히려 연결 리스트는 연속적이지 않는 데이터들을 링크로 서로 연결하는 개념\n",
    "# 연결 리스트는 배열과 달리 프로그램의 실행 중에도 동적으로 새로운 노드를 삽입하거나 삭제하기가 간단하며,\n",
    "# 물리적인 메모리를 연속적으로 사용하지 않고 링크를 사용하기 때문에 관리하기가 쉽다는 장점이 있다."
   ]
  },
  {
   "cell_type": "code",
   "execution_count": 11,
   "metadata": {},
   "outputs": [
    {
     "name": "stdout",
     "output_type": "stream",
     "text": [
      "A\n",
      "B\n",
      "C\n",
      "D\n"
     ]
    }
   ],
   "source": [
    "# Node와 Link\n",
    "class Node:\n",
    "    def __init__(self, data, next=None):\n",
    "        self.data = data\n",
    "        self.next = next\n",
    "        \n",
    "def init_list(): # 4개의 연결 리스트를 초기화\n",
    "    global node_A\n",
    "    node_A = Node(\"A\")\n",
    "    node_B = Node(\"B\")\n",
    "    node_C = Node(\"C\")\n",
    "    node_D = Node(\"D\")\n",
    "    node_A.next = node_B\n",
    "    node_B.next = node_C\n",
    "    node_C.next = node_D\n",
    "        \n",
    "def print_list(): # print\n",
    "    node = node_A\n",
    "    while node:\n",
    "        print(node.data)\n",
    "        node = node.next\n",
    "    \n",
    "        \n",
    "if __name__ == \"__main__\":\n",
    "    init_list()\n",
    "    print_list()"
   ]
  },
  {
   "cell_type": "code",
   "execution_count": 3,
   "metadata": {
    "scrolled": true
   },
   "outputs": [
    {
     "name": "stdout",
     "output_type": "stream",
     "text": [
      "연결리스트 초기화 후\n",
      "A\n",
      "B\n",
      "C\n",
      "E\n",
      "노드 D를 추가한 후\n",
      "A\n",
      "B\n",
      "C\n",
      "D\n",
      "E\n",
      "노드 C를 삭제한 후\n",
      "A\n",
      "B\n",
      "D\n",
      "E\n"
     ]
    }
   ],
   "source": [
    "class Node:\n",
    "    def __init__(self, data, next=None):\n",
    "        self.data = data\n",
    "        self.next = next\n",
    "        \n",
    "def init_list(): # 4개의 연결 리스트를 초기화\n",
    "    global node_A\n",
    "    node_A = Node(\"A\")\n",
    "    node_B = Node(\"B\")\n",
    "    node_C = Node(\"C\")\n",
    "    node_E = Node(\"E\")\n",
    "    node_A.next = node_B\n",
    "    node_B.next = node_C\n",
    "    node_C.next = node_E\n",
    "\n",
    "def delete_node(del_data): # 노드 삭제\n",
    "    global node_A\n",
    "    pre_node = node_A\n",
    "    next_node = pre_node.next\n",
    "    \n",
    "    if pre_node.data == del_data: # A부터 순회하면서 del_data 찾고 있으면 삭제, 첫번째 노드(A)를 삭제하는 경우 떄문에 이 부분이 있음\n",
    "        node_A = next_node\n",
    "        del pre_node\n",
    "        return\n",
    "    \n",
    "    while next_node:\n",
    "        if next_node.data == del_data:\n",
    "            pre_node.next = next_node.next # 삭제할 노드를 찾았을 때 pre_node는 삭제할 노드의 다음노드를 가리킨다. 끝\n",
    "            del next_node\n",
    "            break\n",
    "        pre_node = next_node\n",
    "        next_node = next_node.next\n",
    "        \n",
    "def insert_node(data):\n",
    "    global node_A\n",
    "    new_node = Node(data)\n",
    "    node_P = node_A\n",
    "    node_T = node_A\n",
    "    while node_T.data <= data:\n",
    "        node_P = node_T\n",
    "        node_T = node_T.next\n",
    "    new_node.next = node_T # 삽입할 곳을 찾았으면 삽입할 노드가 다음노드를 가리키게 하고\n",
    "    node_P.next = new_node # 이전노드가 삽입한 노드를 가리키도록 해야한다.(순서 지키셈)\n",
    "    \n",
    "def print_list():\n",
    "    global node_A\n",
    "    cur_node = node_A\n",
    "    while cur_node:\n",
    "        print(cur_node.data)\n",
    "        cur_node = cur_node.next\n",
    "        \n",
    "if __name__ == \"__main__\":\n",
    "    print(\"연결리스트 초기화 후\")\n",
    "    init_list()\n",
    "    print_list()\n",
    "    print(\"노드 D를 추가한 후\")\n",
    "    insert_node(\"D\")\n",
    "    print_list()\n",
    "    print(\"노드 C를 삭제한 후\")\n",
    "    delete_node(\"C\")\n",
    "    print_list()"
   ]
  },
  {
   "cell_type": "code",
   "execution_count": 7,
   "metadata": {},
   "outputs": [
    {
     "name": "stdout",
     "output_type": "stream",
     "text": [
      "연결리스트 초기화 후\n",
      "A\n",
      "B\n",
      "C\n",
      "E\n",
      "노드 D를 추가한 후\n",
      "A\n",
      "B\n",
      "C\n",
      "D\n",
      "E\n",
      "노드 C를 삭제한 후\n",
      "A\n",
      "B\n",
      "D\n",
      "E\n"
     ]
    }
   ],
   "source": [
    "## 이중연결 리스트\n",
    "class Node:\n",
    "    def __init__(self, data, next=None, prev = None):\n",
    "        self.data = data\n",
    "        self.next = next\n",
    "        self.prev = prev\n",
    "        \n",
    "def init_list(): # 4개의 연결 리스트를 초기화\n",
    "    global node_A\n",
    "    node_A = Node(\"A\")\n",
    "    node_B = Node(\"B\")\n",
    "    node_C = Node(\"C\")\n",
    "    node_E = Node(\"E\")\n",
    "    node_A.next = node_B\n",
    "    node_B.next = node_C\n",
    "    node_C.next = node_E\n",
    "    node_B.prev = node_A\n",
    "    node_C.prev = node_B\n",
    "    node_E.prev = node_C\n",
    "\n",
    "def delete_node(del_data): # 노드 삭제\n",
    "    global node_A\n",
    "    pre_node = node_A\n",
    "    next_node = pre_node.next\n",
    "    \n",
    "    if pre_node.data == del_data: # A부터 순회하면서 del_data 찾고 있으면 삭제, 첫번째 노드(A)를 삭제하는 경우 떄문에 이 부분이 있음\n",
    "        node_A = next_node\n",
    "        del pre_node\n",
    "        return\n",
    "    \n",
    "    while next_node:\n",
    "        if next_node.data == del_data:\n",
    "            pre_node.next = next_node.next # 삭제할 노드를 찾았을 때 pre_node는 삭제할 노드의 다음노드를 가리킨다. 끝\n",
    "            next_node.next.prev = pre_node\n",
    "            del next_node\n",
    "            break\n",
    "        pre_node = next_node\n",
    "        next_node = next_node.next\n",
    "        \n",
    "def insert_node(data):\n",
    "    global node_A\n",
    "    new_node = Node(data)\n",
    "    node_P = node_A\n",
    "    node_T = node_A\n",
    "    while node_T.data <= data:\n",
    "        node_P = node_T\n",
    "        node_T = node_T.next\n",
    "    new_node.next = node_T # 삽입할 곳을 찾았으면 삽입할 노드가 다음노드를 가리키게 하고\n",
    "    node_P.next = new_node # 이전노드가 삽입한 노드를 가리키도록 해야한다.(순서 지키셈)\n",
    "    new_node.prev = node_P\n",
    "    node_T.prev = new_node\n",
    "    \n",
    "    \n",
    "def print_list():\n",
    "    global node_A\n",
    "    cur_node = node_A\n",
    "    while cur_node:\n",
    "        print(cur_node.data)\n",
    "        cur_node = cur_node.next\n",
    "        \n",
    "if __name__ == \"__main__\":\n",
    "    print(\"연결리스트 초기화 후\")\n",
    "    init_list()\n",
    "    print_list()\n",
    "    print(\"노드 D를 추가한 후\")\n",
    "    insert_node(\"D\")\n",
    "    print_list()\n",
    "    print(\"노드 C를 삭제한 후\")\n",
    "    delete_node(\"C\")\n",
    "    print_list()"
   ]
  },
  {
   "cell_type": "code",
   "execution_count": 12,
   "metadata": {},
   "outputs": [
    {
     "name": "stdout",
     "output_type": "stream",
     "text": [
      "[1, 2, 3, 4]\n"
     ]
    }
   ],
   "source": [
    "# 스택\n",
    "\n",
    "def push(item):\n",
    "    stack.append(item)\n",
    "    \n",
    "def pop():\n",
    "    return stack.pop()\n",
    "\n",
    "if __name__==\"__main__\":\n",
    "    stack = []\n",
    "    push(1)\n",
    "    push(2)\n",
    "    push(3)\n",
    "    push(4)\n",
    "    \n",
    "print(stack)"
   ]
  },
  {
   "cell_type": "code",
   "execution_count": 13,
   "metadata": {},
   "outputs": [
    {
     "name": "stdout",
     "output_type": "stream",
     "text": [
      "POP > 4\n",
      "POP > 3\n",
      "POP > 2\n",
      "POP > 1\n",
      "[]\n"
     ]
    }
   ],
   "source": [
    "while stack:\n",
    "    print(\"POP > {}\".format(pop()))\n",
    "\n",
    "print(stack)"
   ]
  },
  {
   "cell_type": "code",
   "execution_count": 9,
   "metadata": {},
   "outputs": [
    {
     "name": "stdout",
     "output_type": "stream",
     "text": [
      "[1, 2, 3, 4]\n",
      "<class 'list'>\n"
     ]
    }
   ],
   "source": [
    "# 큐\n",
    "\n",
    "def Put(item):\n",
    "    queue.append(item)\n",
    "    \n",
    "def Get():\n",
    "    return queue.pop(0)\n",
    "\n",
    "if __name__==\"__main__\":\n",
    "    queue = []\n",
    "    Put(1)\n",
    "    Put(2)\n",
    "    Put(3)\n",
    "    Put(4)\n",
    "    \n",
    "    print(queue)\n",
    "    print(type(queue))"
   ]
  },
  {
   "cell_type": "code",
   "execution_count": 10,
   "metadata": {},
   "outputs": [
    {
     "name": "stdout",
     "output_type": "stream",
     "text": [
      "POP(0) > 1\n",
      "POP(0) > 2\n",
      "POP(0) > 3\n",
      "POP(0) > 4\n"
     ]
    }
   ],
   "source": [
    "while queue:\n",
    "    print(\"POP(0) > {}\".format(Get()))"
   ]
  },
  {
   "cell_type": "code",
   "execution_count": 23,
   "metadata": {},
   "outputs": [
    {
     "name": "stdout",
     "output_type": "stream",
     "text": [
      "A -> B -> D -> E -> C -> F -> G -> \n",
      "\n",
      "D -> B -> E -> A -> F -> C -> G -> \n",
      "\n",
      "D -> E -> B -> F -> G -> C -> A -> \n",
      "\n",
      "A -> B -> C -> D -> E -> F -> G -> "
     ]
    }
   ],
   "source": [
    "## 트리 순회 알고리즘\n",
    "\n",
    "class Node:\n",
    "    def __init__(self, data, left=None, right=None):\n",
    "        self.data = data\n",
    "        self.left = left\n",
    "        self.right = right\n",
    "\n",
    "\n",
    "def preorder(node):              # 전위 순회 ( 부모->왼->오른 )\n",
    "    if node == None : return\n",
    "    print(node.data, end=\" -> \")\n",
    "    preorder(node.left)\n",
    "    preorder(node.right)\n",
    "    \n",
    "def inorder(node):              # 중위 순회 (왼 -> 부모 -> 오른)\n",
    "    if node == None : return\n",
    "    inorder(node.left)\n",
    "    print(node.data, end=\" -> \")\n",
    "    inorder(node.right)\n",
    " \n",
    "def postorder(node):              # 후위 순회 ( 왼 -> 오른 -> 부모)\n",
    "    if node == None : return\n",
    "    postorder(node.left)\n",
    "    postorder(node.right)\n",
    "    print(node.data, end=\" -> \")\n",
    "    \n",
    "def levelorder(node):              # 단계 순회 ( 단계별 왼->오 순서대로)\n",
    "    queue = []\n",
    "    queue.append(node)\n",
    "    while len(queue):\n",
    "        visit_node = queue.pop(0)\n",
    "        print(visit_node.data, end=\" -> \")\n",
    "        \n",
    "        if visit_node.left:\n",
    "            queue.append(visit_node.left)\n",
    "        if visit_node.right:\n",
    "            queue.append(visit_node.right)\n",
    "        \n",
    "        \n",
    "nodeD = Node(\"D\")\n",
    "nodeE = Node(\"E\")\n",
    "nodeF = Node(\"F\")\n",
    "nodeG = Node(\"G\")\n",
    "\n",
    "nodeB = Node(\"B\", nodeD, nodeE)\n",
    "nodeC = Node(\"C\", nodeF, nodeG)\n",
    "nodeA = Node(\"A\", nodeB, nodeC)\n",
    "root = nodeA\n",
    "\n",
    "preorder(root)\n",
    "print(\"\\n\")\n",
    "inorder(root)\n",
    "print(\"\\n\")\n",
    "postorder(root)\n",
    "print(\"\\n\")\n",
    "levelorder(root)"
   ]
  },
  {
   "cell_type": "code",
   "execution_count": null,
   "metadata": {},
   "outputs": [],
   "source": []
  }
 ],
 "metadata": {
  "kernelspec": {
   "display_name": "Python 3",
   "language": "python",
   "name": "python3"
  },
  "language_info": {
   "codemirror_mode": {
    "name": "ipython",
    "version": 3
   },
   "file_extension": ".py",
   "mimetype": "text/x-python",
   "name": "python",
   "nbconvert_exporter": "python",
   "pygments_lexer": "ipython3",
   "version": "3.7.3"
  }
 },
 "nbformat": 4,
 "nbformat_minor": 2
}
