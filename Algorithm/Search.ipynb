{
 "cells": [
  {
   "cell_type": "code",
   "execution_count": 1,
   "metadata": {},
   "outputs": [],
   "source": [
    "## 이진 검색(Binary Search) 알고리즘(오름차순으로 정렬된 리스트에서 특정 값의 위치를 찾는 알고리즘)\n",
    "# 처음 중간의 임의 값을 선택하여, 그 값의 크고 작음을 비교 (반드시 정렬된 상태에서 시작해야 함)\n",
    "# 시간복잡도는 O(logN)으로 순차검색인 O(N)보다 뛰어남"
   ]
  },
  {
   "cell_type": "code",
   "execution_count": 15,
   "metadata": {},
   "outputs": [
    {
     "name": "stdout",
     "output_type": "stream",
     "text": [
      "<Before Sort>\n",
      "[19, 66, 81, 79, 24, 62, 62, 78, 74, 75, 37, 33, 63, 94, 41, 66, 89, 31, 20, 87, 30, 98, 19, 24, 6, 82, 72, 36, 52, 31, 72, 100, 87, 26, 53, 93, 5, 19, 53, 78, 49, 77, 39, 38, 90, 40, 76, 2, 25, 71, 35, 43, 11, 30, 84, 94, 28, 72, 70, 41, 17, 100, 77, 83, 43, 56, 2, 86, 15, 95, 31, 90, 84, 13, 78, 62, 82, 33, 90, 64, 66, 75, 79, 7, 9, 2, 25, 11, 5, 92, 61, 53, 60, 31, 86, 53, 72, 84, 7, 47]\n",
      "<After Sort>\n",
      "[2, 2, 2, 5, 5, 6, 7, 7, 9, 11, 11, 13, 15, 17, 19, 19, 19, 20, 24, 24, 25, 25, 26, 28, 30, 30, 31, 31, 31, 31, 33, 33, 35, 36, 37, 38, 39, 40, 41, 41, 43, 43, 47, 49, 52, 53, 53, 53, 53, 56, 60, 61, 62, 62, 62, 63, 64, 66, 66, 66, 70, 71, 72, 72, 72, 72, 74, 75, 75, 76, 77, 77, 78, 78, 78, 79, 79, 81, 82, 82, 83, 84, 84, 84, 86, 86, 87, 87, 89, 90, 90, 90, 92, 93, 94, 94, 95, 98, 100, 100]\n",
      "못찾음\n"
     ]
    }
   ],
   "source": [
    "import random, time\n",
    "\n",
    "def swap(x,i,j):\n",
    "    x[i], x[j] = x[j], x[i]\n",
    "\n",
    "def pivotFirst(x, lmark, rmark):\n",
    "    pivot_val = x[lmark]\n",
    "    pivot_idx = lmark\n",
    "    while lmark <= rmark:\n",
    "        while lmark <= rmark and x[lmark] <= pivot_val:\n",
    "            lmark += 1\n",
    "        while lmark <= rmark and x[rmark] >= pivot_val:\n",
    "            rmark -= 1\n",
    "        if lmark <= rmark:  # 왼쪽과 오른쪽 원소 체인지\n",
    "            swap(x, lmark, rmark)\n",
    "            lmark += 1\n",
    "            rmark -= 1\n",
    "    swap(x, pivot_idx, rmark)   # 왼쪽 값이 오른쪽 보다 크면 기준 값과 오른쪽 값을 바꾼다\n",
    "    return rmark\n",
    "\n",
    "def quickSort(x, pivotMethod=pivotFirst):\n",
    "    def _qsort(x, first, last):\n",
    "        if first < last:\n",
    "            splitpoint = pivotMethod(x, first, last) # 새로 바뀐 기준 값을 반환하는 동시에 원소 체인지하는 함수 호출\n",
    "            _qsort(x, first, splitpoint-1)\n",
    "            _qsort(x, splitpoint+1, last)\n",
    "    _qsort(x, 0, len(x)-1)\n",
    "\n",
    "def binary_search(x, val):\n",
    "    low = 0\n",
    "    high = len(x)-1\n",
    "    while low <= high:\n",
    "        mid = (low + high ) // 2   # 가운데서부터 찾자\n",
    "        \n",
    "        if x[mid] > val:   # 찾으려는 값이 왼쪽에 있네\n",
    "            high = mid - 1\n",
    "        elif x[mid] < val:   # 찾으려는 값이 오른쪽에 있네\n",
    "            low = mid + 1\n",
    "        else:\n",
    "            return True\n",
    "        \n",
    "    return False\n",
    "\n",
    "def binary_seach_recursive(x, val):   # 재귀호출을 사용한 이진 검색 알고리즘\n",
    "    low = 0\n",
    "    high = len(x)-1\n",
    "    \n",
    "    if len(x) == 0:\n",
    "        return False\n",
    "    \n",
    "    mid = (low + high) // 2\n",
    "    \n",
    "    if x[mid] > val:\n",
    "        return binary_seach_recursive(x[:mid], val)\n",
    "    elif x[mid] < val:\n",
    "        return binary_seach_recursive(x[mid+1:], val)\n",
    "    else:\n",
    "        return True\n",
    "    \n",
    "\n",
    "random_list = []\n",
    "for i in range(100):\n",
    "    random_list.append(random.randint(1,100))\n",
    "print(\"<Before Sort>\")\n",
    "print(random_list)\n",
    "\n",
    "print(\"<After Sort>\")\n",
    "quickSort(random_list)\n",
    "print(random_list)\n",
    "\n",
    "if binary_seach_recursive(random_list, 50):\n",
    "    print(\"찾음\")\n",
    "else:\n",
    "    print(\"못찾음\")"
   ]
  },
  {
   "cell_type": "code",
   "execution_count": null,
   "metadata": {},
   "outputs": [],
   "source": []
  }
 ],
 "metadata": {
  "kernelspec": {
   "display_name": "Python 3",
   "language": "python",
   "name": "python3"
  },
  "language_info": {
   "codemirror_mode": {
    "name": "ipython",
    "version": 3
   },
   "file_extension": ".py",
   "mimetype": "text/x-python",
   "name": "python",
   "nbconvert_exporter": "python",
   "pygments_lexer": "ipython3",
   "version": "3.7.3"
  }
 },
 "nbformat": 4,
 "nbformat_minor": 2
}
