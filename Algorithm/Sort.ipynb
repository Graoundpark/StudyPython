{
 "cells": [
  {
   "cell_type": "code",
   "execution_count": 1,
   "metadata": {},
   "outputs": [],
   "source": [
    "## 정렬 알고리즘"
   ]
  },
  {
   "cell_type": "code",
   "execution_count": 32,
   "metadata": {},
   "outputs": [
    {
     "name": "stdout",
     "output_type": "stream",
     "text": [
      "<Before Sort>\n",
      "[9, 94, 59, 3, 34, 27, 15, 4, 79, 41, 42, 43, 5, 40, 67, 8, 15, 61, 55, 64, 25, 88, 47, 62, 90, 37, 12, 71, 85, 41, 37, 94, 4, 1, 95, 99, 22, 75, 56, 57, 31, 85, 85, 54, 87, 51, 12, 42, 81, 76, 1, 68, 41, 73, 22, 100, 78, 13, 44, 21, 34, 63, 17, 90, 18, 57, 54, 3, 60, 61, 49, 2, 7, 11, 39, 32, 32, 42, 22, 27, 99, 7, 25, 15, 9, 72, 66, 10, 88, 55, 99, 13, 19, 6, 84, 95, 99, 12, 1, 73]\n",
      "<After Sort>\n",
      "[1, 1, 1, 2, 3, 3, 4, 4, 5, 6, 7, 7, 8, 9, 9, 10, 11, 12, 12, 12, 13, 13, 15, 15, 15, 17, 18, 19, 21, 22, 22, 22, 25, 25, 27, 27, 31, 32, 32, 34, 34, 37, 37, 39, 40, 41, 41, 41, 42, 42, 42, 43, 44, 47, 49, 51, 54, 54, 55, 55, 56, 57, 57, 59, 60, 61, 61, 62, 63, 64, 66, 67, 68, 71, 72, 73, 73, 75, 76, 78, 79, 81, 84, 85, 85, 85, 87, 88, 88, 90, 90, 94, 94, 95, 95, 99, 99, 99, 99, 100]\n",
      "데이터의 크기 : 100\n",
      "실행시간 : 0.0009980201721191406\n"
     ]
    }
   ],
   "source": [
    "# 선택 정렬 알고리즘(주어진 배열에서 최댓값(최솟값)을 찾아 맨 오른쪽(왼쪽)값과 교체한다.)\n",
    "#  데이터의 처음부터 끝까지 훓어가면서 가장 작은 값을 찾은 후에 그 값을 첫 번째 데이터와 자리를 바꾸고, \n",
    "#  그 다음에 두 번째로 작은 데이터를 찾아서 두 번째의 데이터와 자리를 바꾸는 방법\n",
    "import random, time\n",
    "\n",
    "def swap(x,i,j):\n",
    "    x[i], x[j] = x[j], x[i]\n",
    "\n",
    "def select_sort(x):\n",
    "    for sel in range(len(x)-1): # 첫번째 인자부터 마지막인자-1까지\n",
    "        min_idx = sel\n",
    "        for find in range(sel+1, len(x)): # 순차적인 Sel 이후의 데이터 중 가장 작은 값 반환(두번째 인자부터 마지막인자 까지)\n",
    "            if x[find] < x[min_idx]:\n",
    "                min_idx = find\n",
    "        \n",
    "        swap(x, sel, min_idx)    # 가장 작은 값과 Sel 값 Swap\n",
    "    \n",
    "random_list = []\n",
    "for i in range(100):\n",
    "    random_list.append(random.randint(1,100))\n",
    "print(\"<Before Sort>\")\n",
    "print(random_list)\n",
    "\n",
    "start_time = time.time()\n",
    "select_sort(random_list)\n",
    "running_time = time.time() - start_time\n",
    "\n",
    "print(\"<After Sort>\")\n",
    "print(random_list)\n",
    "\n",
    "print(\"데이터의 크기 : {0}\".format(100))\n",
    "print(\"실행시간 : {0}\".format(running_time))"
   ]
  },
  {
   "cell_type": "code",
   "execution_count": 34,
   "metadata": {
    "scrolled": true
   },
   "outputs": [
    {
     "name": "stdout",
     "output_type": "stream",
     "text": [
      "<Before Sort>\n",
      "[45, 24, 10, 53, 60, 2, 12, 90, 10, 65, 6, 39, 72, 27, 49, 13, 94, 46, 27, 51, 100, 98, 93, 7, 97, 78, 38, 70, 71, 6, 100, 73, 32, 10, 2, 71, 70, 9, 67, 1, 73, 1, 26, 17, 52, 52, 34, 76, 90, 77, 60, 46, 92, 78, 28, 50, 35, 76, 31, 7, 59, 1, 90, 90, 92, 99, 3, 81, 75, 36, 9, 5, 100, 34, 22, 86, 59, 75, 74, 92, 74, 50, 5, 82, 58, 12, 28, 10, 35, 36, 1, 6, 6, 55, 47, 52, 24, 46, 88, 14]\n",
      "<After Sort>\n",
      "[1, 1, 1, 1, 2, 2, 3, 5, 5, 6, 6, 6, 6, 7, 7, 9, 9, 10, 10, 10, 10, 12, 12, 13, 14, 17, 22, 24, 24, 26, 27, 27, 28, 28, 31, 32, 34, 34, 35, 35, 36, 36, 38, 39, 45, 46, 46, 46, 47, 49, 50, 50, 51, 52, 52, 52, 53, 55, 58, 59, 59, 60, 60, 65, 67, 70, 70, 71, 71, 72, 73, 73, 74, 74, 75, 75, 76, 76, 77, 78, 78, 81, 82, 86, 88, 90, 90, 90, 90, 92, 92, 92, 93, 94, 97, 98, 99, 100, 100, 100]\n",
      "데이터의 크기 : 100\n",
      "실행시간 : 0.000997304916381836\n"
     ]
    }
   ],
   "source": [
    "## 삽입 정렬 알고리즘(아직 정렬되지 않은 값을 이미 정렬된 배열 사이에 끼워 넣는 과정을 반복)\n",
    "\n",
    "import random, time\n",
    "def insert_sort(x):\n",
    "    for sel in range(1, len(x)):\n",
    "        val = x[sel]\n",
    "        i = sel\n",
    "        while i > 0 and x[i-1] > val: # i > 0은 2번째 부터 시작하도록 하기위햇, \n",
    "            x[i] = x[i-1]\n",
    "            i -= 1\n",
    "        x[i] = val\n",
    "        \n",
    "        \n",
    "random_list = []\n",
    "for i in range(100):\n",
    "    random_list.append(random.randint(1,100))\n",
    "print(\"<Before Sort>\")\n",
    "print(random_list)\n",
    "\n",
    "start_time = time.time()\n",
    "insert_sort(random_list)\n",
    "running_time = time.time() - start_time\n",
    "\n",
    "print(\"<After Sort>\")\n",
    "print(random_list)\n",
    "\n",
    "print(\"데이터의 크기 : {0}\".format(100))\n",
    "print(\"실행시간 : {0}\".format(running_time))"
   ]
  },
  {
   "cell_type": "code",
   "execution_count": 37,
   "metadata": {},
   "outputs": [
    {
     "name": "stdout",
     "output_type": "stream",
     "text": [
      "<Before Sort>\n",
      "[20, 88, 85, 26, 54, 54, 32, 6, 84, 59, 54, 31, 42, 28, 75, 97, 37, 97, 38, 24, 47, 28, 55, 15, 96, 45, 37, 25, 48, 76, 49, 1, 79, 88, 43, 33, 14, 44, 95, 74, 62, 70, 9, 86, 61, 23, 8, 47, 9, 71, 60, 79, 15, 61, 74, 29, 82, 47, 21, 59, 66, 80, 21, 31, 55, 56, 25, 65, 98, 36, 91, 23, 74, 32, 83, 71, 34, 56, 55, 57, 55, 27, 96, 51, 18, 25, 25, 7, 60, 98, 28, 64, 52, 97, 36, 23, 26, 82, 9, 80]\n",
      "<After Sort>\n",
      "[1, 6, 7, 8, 9, 9, 9, 14, 15, 15, 18, 20, 21, 21, 23, 23, 23, 24, 25, 25, 25, 25, 26, 26, 27, 28, 28, 28, 29, 31, 31, 32, 32, 33, 34, 36, 36, 37, 37, 38, 42, 43, 44, 45, 47, 47, 47, 48, 49, 51, 52, 54, 54, 54, 55, 55, 55, 55, 56, 56, 57, 59, 59, 60, 60, 61, 61, 62, 64, 65, 66, 70, 71, 71, 74, 74, 74, 75, 76, 79, 79, 80, 80, 82, 82, 83, 84, 85, 86, 88, 88, 91, 95, 96, 96, 97, 97, 97, 98, 98]\n",
      "데이터의 크기 : 100\n",
      "실행시간 : 0.0009965896606445312\n"
     ]
    }
   ],
   "source": [
    "## 거품 정렬(bubble sort) 알고리즘(이웃한 두 값을 비교하여 정렬, 큰 값이 오른쪽으로 이동하는 과정이 반복되면서 \n",
    "## 비교했던 모든 값들의 최대값이 맨 오른쪽으로 옮겨지게 된다.)\n",
    "\n",
    "import random, time\n",
    "\n",
    "def swap(x,i,j):\n",
    "    x[i], x[j] = x[j], x[i]\n",
    "\n",
    "def bubble_sort(x):\n",
    "    for x_idx in reversed(range(len(x))): # reversed(range(len(10)))이라면 9,8,7...2,1,0\n",
    "        for i in range(x_idx):\n",
    "            if x[i] > x[i+1]:\n",
    "                swap(x, i, i+1)\n",
    "        \n",
    "random_list = []\n",
    "for i in range(100):\n",
    "    random_list.append(random.randint(1,100))\n",
    "print(\"<Before Sort>\")\n",
    "print(random_list)\n",
    "\n",
    "start_time = time.time()\n",
    "bubble_sort(random_list)\n",
    "running_time = time.time() - start_time\n",
    "\n",
    "print(\"<After Sort>\")\n",
    "print(random_list)\n",
    "\n",
    "print(\"데이터의 크기 : {0}\".format(100))\n",
    "print(\"실행시간 : {0}\".format(running_time))"
   ]
  },
  {
   "cell_type": "code",
   "execution_count": 39,
   "metadata": {},
   "outputs": [
    {
     "name": "stdout",
     "output_type": "stream",
     "text": [
      "<Before Sort>\n",
      "[97, 22, 59, 99, 88, 43, 87, 14, 50, 4, 81, 86, 85, 72, 78, 96, 7, 54, 79, 74, 76, 65, 81, 98, 81, 81, 74, 1, 12, 95, 87, 5, 94, 59, 41, 88, 75, 64, 29, 26, 36, 63, 95, 38, 78, 80, 46, 35, 36, 56, 69, 49, 16, 68, 21, 25, 16, 41, 18, 57, 88, 57, 80, 74, 13, 7, 52, 77, 90, 95, 45, 92, 86, 21, 33, 36, 7, 100, 41, 33, 98, 2, 8, 41, 90, 9, 39, 91, 37, 18, 66, 66, 3, 32, 97, 6, 20, 29, 69, 51]\n",
      "<After Sort>\n",
      "[1, 2, 3, 4, 5, 6, 7, 7, 7, 8, 9, 12, 13, 14, 16, 16, 18, 18, 20, 21, 21, 22, 25, 26, 29, 29, 32, 33, 33, 35, 36, 36, 36, 37, 38, 39, 41, 41, 41, 41, 43, 45, 46, 49, 50, 51, 52, 54, 56, 57, 57, 59, 59, 63, 64, 65, 66, 66, 68, 69, 69, 72, 74, 74, 74, 75, 76, 77, 78, 78, 79, 80, 80, 81, 81, 81, 81, 85, 86, 86, 87, 87, 88, 88, 88, 90, 90, 91, 92, 94, 95, 95, 95, 96, 97, 97, 98, 98, 99, 100]\n",
      "데이터의 크기 : 100\n",
      "실행시간 : 0.0009975433349609375\n"
     ]
    }
   ],
   "source": [
    "# 쉘 정렬(Shell sort) 알고리즘(주어진 간격만큼 듬성듬성 떨어진 서브배열을 만들어 미리 삽입정렬을 수행하고 간격을 줄여서 모든 정렬을 마침)\n",
    "\n",
    "import random, time\n",
    "\n",
    "def swap(x,i,j):\n",
    "    x[i], x[j] = x[j], x[i]\n",
    "\n",
    "def gapInsertionSort(x, start, gap):   # 간격만큼 서브배열로 삽입정렬 수행\n",
    "    for target in range(start+gap, len(x), gap):\n",
    "        val = x[target]\n",
    "        i = target\n",
    "        while i > start:\n",
    "            if x[i-gap] > val:\n",
    "                x[i] = x[i-gap]\n",
    "            else:\n",
    "                break\n",
    "            i -= gap\n",
    "        x[i] = val\n",
    "\n",
    "def shellSort(x):\n",
    "    gap = len(x) // 2    # 간격을 전체의 절반으로 시작해서 점점 나눠나간다\n",
    "    while gap > 0:\n",
    "        for start in range(gap):\n",
    "            gapInsertionSort(x, start, gap)\n",
    "        gap = gap // 2\n",
    "        \n",
    "random_list = []\n",
    "for i in range(100):\n",
    "    random_list.append(random.randint(1,100))\n",
    "print(\"<Before Sort>\")\n",
    "print(random_list)\n",
    "\n",
    "start_time = time.time()\n",
    "shellSort(random_list)\n",
    "running_time = time.time() - start_time\n",
    "\n",
    "print(\"<After Sort>\")\n",
    "print(random_list)\n",
    "\n",
    "print(\"데이터의 크기 : {0}\".format(100))\n",
    "print(\"실행시간 : {0}\".format(running_time))\n",
    "    "
   ]
  },
  {
   "cell_type": "code",
   "execution_count": 44,
   "metadata": {},
   "outputs": [
    {
     "name": "stdout",
     "output_type": "stream",
     "text": [
      "<Before Sort>\n",
      "[81, 29, 54, 4, 31, 63, 57, 31, 88, 80, 10, 27, 94, 92, 1, 32, 25, 55, 13, 100, 66, 64, 48, 11, 32, 69, 60, 90, 70, 21, 5, 18, 15, 37, 8, 26, 5, 57, 47, 52, 45, 26, 70, 26, 4, 63, 73, 40, 92, 83, 85, 45, 69, 13, 23, 54, 91, 56, 95, 55, 30, 30, 67, 73, 77, 43, 10, 89, 84, 54, 43, 92, 65, 19, 5, 24, 27, 19, 58, 48, 4, 62, 1, 34, 17, 65, 78, 3, 64, 35, 69, 62, 74, 95, 95, 50, 21, 40, 90, 10]\n",
      "<After Sort>\n",
      "[1, 1, 3, 4, 4, 4, 5, 5, 5, 8, 10, 10, 10, 11, 13, 13, 15, 17, 18, 19, 19, 21, 21, 23, 24, 25, 26, 26, 26, 27, 27, 29, 30, 30, 31, 31, 32, 32, 34, 35, 37, 40, 40, 43, 43, 45, 45, 47, 48, 48, 50, 52, 54, 54, 54, 55, 55, 56, 57, 57, 58, 60, 62, 62, 63, 63, 64, 64, 65, 65, 66, 67, 69, 69, 69, 70, 70, 73, 73, 74, 77, 78, 80, 81, 83, 84, 85, 88, 89, 90, 90, 91, 92, 92, 92, 94, 95, 95, 95, 100]\n",
      "데이터의 크기 : 100\n",
      "실행시간 : 0.000997781753540039\n"
     ]
    }
   ],
   "source": [
    "# 퀵 정렬 (피벗(기준값)을 정해서 피벗보다 작은 값은 왼쪽, 큰 값은 오른쪽에 오게하는 방법)\n",
    "\n",
    "import random, time\n",
    "\n",
    "def swap(x,i,j):\n",
    "    x[i], x[j] = x[j], x[i]\n",
    "\n",
    "def pivotFirst(x, lmark, rmark):\n",
    "    pivot_val = x[lmark]\n",
    "    pivot_idx = lmark\n",
    "    while lmark <= rmark:\n",
    "        while lmark <= rmark and x[lmark] <= pivot_val:\n",
    "            lmark += 1\n",
    "        while lmark <= rmark and x[rmark] >= pivot_val:\n",
    "            rmark -= 1\n",
    "        if lmark <= rmark:  # 왼쪽과 오른쪽 원소 체인지\n",
    "            swap(x, lmark, rmark)\n",
    "            lmark += 1\n",
    "            rmark -= 1\n",
    "    swap(x, pivot_idx, rmark)   # 왼쪽 값이 오른쪽 보다 크면 기준 값과 오른쪽 값을 바꾼다\n",
    "    return rmark\n",
    "\n",
    "def quickSort(x, pivotMethod=pivotFirst):\n",
    "    def _qsort(x, first, last):\n",
    "        if first < last:\n",
    "            splitpoint = pivotMethod(x, first, last) # 새로 바뀐 기준 값을 반환하는 동시에 원소 체인지하는 함수 호출\n",
    "            _qsort(x, first, splitpoint-1)\n",
    "            _qsort(x, splitpoint+1, last)\n",
    "    _qsort(x, 0, len(x)-1)\n",
    "    \n",
    "random_list = []\n",
    "for i in range(100):\n",
    "    random_list.append(random.randint(1,100))\n",
    "print(\"<Before Sort>\")\n",
    "print(random_list)\n",
    "\n",
    "start_time = time.time()\n",
    "quickSort(random_list)\n",
    "running_time = time.time() - start_time\n",
    "\n",
    "print(\"<After Sort>\")\n",
    "print(random_list)\n",
    "\n",
    "print(\"데이터의 크기 : {0}\".format(100))\n",
    "print(\"실행시간 : {0}\".format(running_time))"
   ]
  },
  {
   "cell_type": "code",
   "execution_count": 52,
   "metadata": {},
   "outputs": [
    {
     "name": "stdout",
     "output_type": "stream",
     "text": [
      "<Before Sort>\n",
      "[35, 88, 36, 47, 60, 24, 46, 24, 5, 48, 13, 26, 45, 65, 88, 61, 26, 56, 96, 80, 34, 58, 60, 88, 80, 92, 11, 70, 69, 16, 78, 17, 88, 22, 44, 49, 96, 54, 21, 16, 19, 65, 58, 30, 88, 4, 5, 29, 85, 96, 65, 4, 13, 74, 25, 20, 88, 78, 24, 91, 33, 8, 69, 82, 92, 55, 25, 13, 50, 88, 36, 70, 34, 16, 28, 85, 23, 41, 95, 98, 54, 74, 85, 40, 55, 94, 27, 11, 7, 90, 27, 78, 100, 89, 57, 51, 54, 38, 10, 77]\n",
      "<After Sort>\n",
      "[4, 4, 5, 5, 7, 8, 10, 11, 11, 13, 13, 13, 16, 16, 16, 17, 19, 20, 21, 22, 23, 24, 24, 24, 25, 25, 26, 26, 27, 27, 28, 29, 30, 33, 34, 34, 35, 36, 36, 38, 40, 41, 44, 45, 46, 47, 48, 49, 50, 51, 54, 54, 54, 55, 55, 56, 57, 58, 58, 60, 60, 61, 65, 65, 65, 69, 69, 70, 70, 74, 74, 77, 78, 78, 78, 80, 80, 82, 85, 85, 85, 88, 88, 88, 88, 88, 88, 88, 89, 90, 91, 92, 92, 94, 95, 96, 96, 96, 98, 100]\n",
      "데이터의 크기 : 100\n",
      "실행시간 : 0.0009968280792236328\n"
     ]
    }
   ],
   "source": [
    "# 병합 정렬(Merge Sort) 알고리즘\n",
    "import random, time\n",
    "\n",
    "def swap(x,i,j):\n",
    "    x[i], x[j] = x[j], x[i]\n",
    "\n",
    "def mergeSort(x):\n",
    "    if len(x) > 1:   # 덩어리의 원소가 하나일 때 까지\n",
    "        mid = len(x) // 2\n",
    "        lx, rx = x[:mid], x[mid:]\n",
    "        mergeSort(lx)   # 재귀를 통해서 계속 쪼갠다\n",
    "        mergeSort(rx)   \n",
    "\n",
    "        left, right, idx = 0, 0, 0   # 각각의 덩어리를 뭉치면서 정렬ㄱㄱ\n",
    "        while left < len(lx) and right < len(rx):\n",
    "            if lx[left] < rx[right]:\n",
    "                x[idx] = lx[left]\n",
    "                left += 1\n",
    "            else:\n",
    "                x[idx] = rx[right]\n",
    "                right += 1\n",
    "            idx += 1\n",
    "        x[idx:] = lx[left:] if left != len(lx) else rx[right:]\n",
    "        \n",
    "random_list = []\n",
    "for i in range(100):\n",
    "    random_list.append(random.randint(1,100))\n",
    "print(\"<Before Sort>\")\n",
    "print(random_list)\n",
    "\n",
    "start_time = time.time()\n",
    "mergeSort(random_list)\n",
    "running_time = time.time() - start_time\n",
    "\n",
    "print(\"<After Sort>\")\n",
    "print(random_list)\n",
    "\n",
    "print(\"데이터의 크기 : {0}\".format(100))\n",
    "print(\"실행시간 : {0}\".format(running_time))\n",
    "    "
   ]
  },
  {
   "cell_type": "code",
   "execution_count": null,
   "metadata": {},
   "outputs": [],
   "source": []
  }
 ],
 "metadata": {
  "kernelspec": {
   "display_name": "Python 3",
   "language": "python",
   "name": "python3"
  },
  "language_info": {
   "codemirror_mode": {
    "name": "ipython",
    "version": 3
   },
   "file_extension": ".py",
   "mimetype": "text/x-python",
   "name": "python",
   "nbconvert_exporter": "python",
   "pygments_lexer": "ipython3",
   "version": "3.7.3"
  }
 },
 "nbformat": 4,
 "nbformat_minor": 2
}
