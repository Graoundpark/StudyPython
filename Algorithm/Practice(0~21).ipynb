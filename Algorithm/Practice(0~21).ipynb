{
 "cells": [
  {
   "cell_type": "code",
   "execution_count": 1,
   "metadata": {},
   "outputs": [],
   "source": [
    "## 실전 문제 1~21"
   ]
  },
  {
   "cell_type": "code",
   "execution_count": 26,
   "metadata": {},
   "outputs": [
    {
     "name": "stdout",
     "output_type": "stream",
     "text": [
      "8 2 9 5 7 9 8 5 7 3 5 "
     ]
    }
   ],
   "source": [
    "## 6. 숫자 뒤집기(입력받는 데이터를 역순으로 바꾸어 화면에 출력)\n",
    "\n",
    "def reverse(n):\n",
    "    if n <= 0:\n",
    "        return 0\n",
    "    \n",
    "    print(n%10, end=\" \") ## 1의 자리 숫자를 %로 먼저 출력\n",
    "    \n",
    "    reverse(n//10)   ## 끝에서 다음 자리 숫자는 10을 나눈 값을 다시 재귀를 통해 출력(계속 1의 자리 숫자를 출력하는 형태)\n",
    "    \n",
    "reverse(53758975928)"
   ]
  },
  {
   "cell_type": "code",
   "execution_count": 1,
   "metadata": {},
   "outputs": [
    {
     "name": "stdout",
     "output_type": "stream",
     "text": [
      "1 2 X 4 5 X 7 8 X 10 11 X 13 14 X 16 17 X 19 20 X 22 23 X 25 26 X 28 29 X 31 32 X 34 35 X 37 38 X 40 41 X 43 44 X 46 47 X 49 50 X 52 53 X 55 56 X 58 59 X 61 62 X 64 65 X 67 68 X 70 71 X 73 74 X 76 77 X 79 80 X 82 83 X 85 86 X 88 89 X 91 92 X 94 95 X 97 98 X 100 101 X 103 104 X 106 107 X 109 110 X 112 113 X 115 116 X 118 119 X 121 122 X 124 125 X 127 \n",
      "\n",
      "1 2 X 4 5 X 7 8 X 10 11 12 X 14 15 X 17 18 X 20 21 22 X 24 25 X 27 28 X X X X XX X X XX X X XX 40 41 42 X 44 45 X 47 48 X 50 51 52 X 54 55 X 57 58 X X X X XX X X XX X X XX 70 71 72 X 74 75 X 77 78 X 80 81 82 X 84 85 X 87 88 X X X X XX X X XX X X XX 100 101 102 X 104 105 X 107 108 X 110 111 112 X 114 115 X 117 118 X 120 121 122 X 124 125 X 127 128 X X X X XX X X XX X X XX 140 141 142 X 144 145 X 147 148 X 150 151 152 X 154 155 X 157 158 X X X X XX X X XX X X XX 170 171 172 X 174 175 X 177 178 X 180 181 182 X 184 185 X 187 188 X X X X XX X X XX X X XX 200 201 202 X 204 205 X 207 208 X 210 211 212 X 214 215 X 217 218 X 220 221 222 X 224 225 X 227 228 X X X X XX X X XX X X XX 240 241 242 X 244 245 X 247 248 X 250 251 252 X 254 255 X 257 258 X X X X XX X X XX X X XX 270 271 272 X 274 275 X 277 278 X 280 281 282 X 284 285 X 287 288 X X X X XX X X XX X X XX X X X XX X X XX X X XX X X X XX X X XX X X XX X X X XX X X XX X X XX XX XX XX XXX XX XX XXX XX XX XXX X X X XX X X XX X X XX X X X XX X X XX X X XX XX XX XX XXX XX XX XXX XX XX XXX "
     ]
    }
   ],
   "source": [
    "### 7. 369게임 만들기\n",
    "\n",
    "def game3beasu(n): # 3의 배수만 X 출력\n",
    "    for i in range(1, n):\n",
    "        if ( i % 3 == 0 ):\n",
    "            print(\"X\", end = \" \")\n",
    "        else:\n",
    "            print(i, end = \" \")\n",
    "            \n",
    "def game369(n): # 진짜 369게임\n",
    "    i = 1\n",
    "    while i <= n:\n",
    "        temp = i\n",
    "        Find = False\n",
    "        while temp > 0:\n",
    "            if temp % 10 == 3 or temp % 10 == 6 or temp % 10 == 9:\n",
    "                print(\"X\", end=\"\")\n",
    "                Find = True        \n",
    "            \n",
    "            temp = temp // 10\n",
    "        \n",
    "        \n",
    "        if Find == False:\n",
    "            print(i, end = \" \")\n",
    "        else:\n",
    "            print(\" \", end = \"\")\n",
    "        \n",
    "        i += 1\n",
    "        \n",
    "        \n",
    "game3beasu(128)\n",
    "print(\"\\n\")\n",
    "game369(369)\n",
    "            "
   ]
  },
  {
   "cell_type": "code",
   "execution_count": 28,
   "metadata": {},
   "outputs": [
    {
     "name": "stdout",
     "output_type": "stream",
     "text": [
      "True\n",
      "True\n",
      "False\n",
      "True\n",
      "False\n",
      "True\n"
     ]
    }
   ],
   "source": [
    "### 8. 입력받은 숫자가 소수인지 출력\n",
    "\n",
    "def Prime_Number(n):\n",
    "    for i in range(2, n):\n",
    "        if n % i == 0: # 2부터 n-1까지 반복하면서 나눴을 때 나눈 나머지가 0이 하나라도 나오면 소수가 아님!\n",
    "            return False\n",
    "    \n",
    "    return True\n",
    "\n",
    "print(Prime_Number(1))\n",
    "print(Prime_Number(3))\n",
    "print(Prime_Number(4))\n",
    "print(Prime_Number(5))\n",
    "print(Prime_Number(16))\n",
    "print(Prime_Number(17))\n",
    "            "
   ]
  },
  {
   "cell_type": "code",
   "execution_count": 31,
   "metadata": {},
   "outputs": [
    {
     "name": "stdout",
     "output_type": "stream",
     "text": [
      "2\n",
      "3\n",
      "5\n",
      "7\n",
      "11\n",
      "13\n",
      "17\n",
      "19\n",
      "23\n",
      "29\n",
      "31\n",
      "37\n",
      "41\n",
      "43\n",
      "47\n"
     ]
    }
   ],
   "source": [
    "### 9. 2~N 사이의 모든 소수를 추출하기\n",
    "\n",
    "def Prime_Number(n): # 소수인지를 확인하는 함수\n",
    "    for i in range(2, n):\n",
    "        if n % i == 0: # 2부터 n-1까지 반복하면서 나눴을 때 나눈 나머지가 0이 하나라도 나오면 소수가 아님!\n",
    "            return False\n",
    "    \n",
    "    return True\n",
    "\n",
    "def Print_AllPrime(n):\n",
    "    i = 2\n",
    "    while i <= n:\n",
    "        if Prime_Number(i) == True:\n",
    "            print(i)\n",
    "        \n",
    "        i += 1\n",
    "        \n",
    "Print_AllPrime(50)\n"
   ]
  },
  {
   "cell_type": "code",
   "execution_count": 22,
   "metadata": {},
   "outputs": [
    {
     "data": {
      "text/plain": [
       "0"
      ]
     },
     "execution_count": 22,
     "metadata": {},
     "output_type": "execute_result"
    }
   ],
   "source": [
    "3 % 1"
   ]
  },
  {
   "cell_type": "code",
   "execution_count": 41,
   "metadata": {},
   "outputs": [
    {
     "name": "stdout",
     "output_type": "stream",
     "text": [
      "1\n",
      "2\n",
      "4\n",
      "8\n",
      "16\n",
      "32\n",
      "64\n",
      "128\n",
      "256\n",
      "512\n",
      "1024\n"
     ]
    }
   ],
   "source": [
    "### 10. 약수 구하기\n",
    "\n",
    "def Print_Yaksu(n):\n",
    "    i = 1\n",
    "    while i <= n:\n",
    "        if n % i == 0: ## 소수가 아니면 걍 출력하면 끝\n",
    "            print(i)\n",
    "            \n",
    "        i += 1\n",
    "            \n",
    "Print_Yaksu(1024)"
   ]
  },
  {
   "cell_type": "code",
   "execution_count": 36,
   "metadata": {},
   "outputs": [
    {
     "data": {
      "text/plain": [
       "2"
      ]
     },
     "execution_count": 36,
     "metadata": {},
     "output_type": "execute_result"
    }
   ],
   "source": [
    "12 % 5"
   ]
  },
  {
   "cell_type": "code",
   "execution_count": null,
   "metadata": {},
   "outputs": [],
   "source": []
  }
 ],
 "metadata": {
  "kernelspec": {
   "display_name": "Python 3",
   "language": "python",
   "name": "python3"
  },
  "language_info": {
   "codemirror_mode": {
    "name": "ipython",
    "version": 3
   },
   "file_extension": ".py",
   "mimetype": "text/x-python",
   "name": "python",
   "nbconvert_exporter": "python",
   "pygments_lexer": "ipython3",
   "version": "3.7.3"
  }
 },
 "nbformat": 4,
 "nbformat_minor": 2
}
