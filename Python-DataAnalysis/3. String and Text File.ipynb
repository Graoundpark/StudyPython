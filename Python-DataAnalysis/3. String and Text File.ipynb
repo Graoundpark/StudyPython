{
 "cells": [
  {
   "cell_type": "markdown",
   "metadata": {},
   "source": [
    "### 문자열과 텍스트 파일 데이터 다루기"
   ]
  },
  {
   "cell_type": "code",
   "execution_count": 1,
   "metadata": {},
   "outputs": [
    {
     "data": {
      "text/plain": [
       "['에스프레소', '아메리카노', '카페라테', '카푸치노']"
      ]
     },
     "execution_count": 1,
     "metadata": {},
     "output_type": "execute_result"
    }
   ],
   "source": [
    "# 문자열 분리(split)\n",
    "CoffeeMenu = \"에스프레소,아메리카노,카페라테,카푸치노\"\n",
    "CoffeeMenu.split(\",\") # split 메서드는 문자열에서 구분자를 기준으로 분리해 리스트로 반환"
   ]
  },
  {
   "cell_type": "code",
   "execution_count": 8,
   "metadata": {},
   "outputs": [
    {
     "data": {
      "text/plain": [
       "['에스프레소', '아메리카노', '카페라테', '카푸치노']"
      ]
     },
     "execution_count": 8,
     "metadata": {},
     "output_type": "execute_result"
    }
   ],
   "source": [
    "\"에스프레소,아메리카노,카페라테,카푸치노\".split(\",\")"
   ]
  },
  {
   "cell_type": "code",
   "execution_count": 9,
   "metadata": {},
   "outputs": [
    {
     "data": {
      "text/plain": [
       "['에스프레소', '아메리카노', '카페라테', '카푸치노']"
      ]
     },
     "execution_count": 9,
     "metadata": {},
     "output_type": "execute_result"
    }
   ],
   "source": [
    "\"에스프레소 아메리카노 카페라테 카푸치노\".split(\" \")"
   ]
  },
  {
   "cell_type": "code",
   "execution_count": 1,
   "metadata": {},
   "outputs": [
    {
     "data": {
      "text/plain": [
       "['에스프레소', '아메리카노', '카페라테', '카푸치노']"
      ]
     },
     "execution_count": 1,
     "metadata": {},
     "output_type": "execute_result"
    }
   ],
   "source": [
    "\"에스프레소 아메리카노 \\n카페라테 \\n카푸치노\".split() # 인자 없이 사용하면 문자열 사이의 모든 공백과 개행문자를 없애고 분리된 문자열 반환"
   ]
  },
  {
   "cell_type": "code",
   "execution_count": 15,
   "metadata": {},
   "outputs": [
    {
     "data": {
      "text/plain": [
       "['에스프레소', '아메리카노', '카페라테 카푸치노']"
      ]
     },
     "execution_count": 15,
     "metadata": {},
     "output_type": "execute_result"
    }
   ],
   "source": [
    "\"에스프레소 아메리카노 카페라테 카푸치노\".split(maxsplit=2) # 앞에서부터 2개의 공백까지만 문자열을 나눈다(maxsplit)"
   ]
  },
  {
   "cell_type": "code",
   "execution_count": 4,
   "metadata": {},
   "outputs": [
    {
     "data": {
      "text/plain": [
       "['에스프레소', '아메리카노', '카페라테.카푸치노']"
      ]
     },
     "execution_count": 4,
     "metadata": {},
     "output_type": "execute_result"
    }
   ],
   "source": [
    "\"에스프레소.아메리카노.카페라테.카푸치노\".split(\".\", 2)"
   ]
  },
  {
   "cell_type": "code",
   "execution_count": 3,
   "metadata": {},
   "outputs": [
    {
     "name": "stdout",
     "output_type": "stream",
     "text": [
      "['+82', '01-6700-8077']\n",
      "국내전화번호: 01-6700-8077\n",
      "<class 'list'>\n"
     ]
    }
   ],
   "source": [
    "PhoneNumber = \"+82-01-6700-8077\"\n",
    "SplitNum = PhoneNumber.split(\"-\", 1) # 앞에서부터 \"-\" 1개만 나눔\n",
    "\n",
    "print(SplitNum)\n",
    "print(\"국내전화번호: {0}\".format(SplitNum[1]))\n",
    "print(type(SplitNum)) # split한 결과는 리스트"
   ]
  },
  {
   "cell_type": "code",
   "execution_count": 22,
   "metadata": {},
   "outputs": [
    {
     "data": {
      "text/plain": [
       "'Python'"
      ]
     },
     "execution_count": 22,
     "metadata": {},
     "output_type": "execute_result"
    }
   ],
   "source": [
    "# 불필요한 문자열 없애기(strip)\n",
    "\"aaaaPythonaaaa\".strip(\"a\")"
   ]
  },
  {
   "cell_type": "code",
   "execution_count": 31,
   "metadata": {},
   "outputs": [
    {
     "name": "stdout",
     "output_type": "stream",
     "text": [
      "bbPythonb\n"
     ]
    }
   ],
   "source": [
    "Str = \"aabbPythonbaaa\"\n",
    "Temp1 = Str.strip(\"a\") # 문자열의 앞뒤 공백만 지울 수 있다\n",
    "print(Temp1)"
   ]
  },
  {
   "cell_type": "code",
   "execution_count": 32,
   "metadata": {},
   "outputs": [
    {
     "data": {
      "text/plain": [
       "'Python'"
      ]
     },
     "execution_count": 32,
     "metadata": {},
     "output_type": "execute_result"
    }
   ],
   "source": [
    "Temp1.strip(\"b\")"
   ]
  },
  {
   "cell_type": "code",
   "execution_count": 38,
   "metadata": {},
   "outputs": [
    {
     "data": {
      "text/plain": [
       "'ython'"
      ]
     },
     "execution_count": 38,
     "metadata": {},
     "output_type": "execute_result"
    }
   ],
   "source": [
    "Str.strip(\"abP\") # 여러개의 문자도 지울 수 있다"
   ]
  },
  {
   "cell_type": "code",
   "execution_count": 44,
   "metadata": {},
   "outputs": [
    {
     "data": {
      "text/plain": [
       "'aabbPythonbaaa'"
      ]
     },
     "execution_count": 44,
     "metadata": {},
     "output_type": "execute_result"
    }
   ],
   "source": [
    "Str.strip(\"tho\") # 중간 문자는 못지움, 문자열의 앞뒤에서 지정한 문자 외 다른 문자를 만날 때까지만 지정한 문자를 모두 삭제"
   ]
  },
  {
   "cell_type": "code",
   "execution_count": 45,
   "metadata": {},
   "outputs": [
    {
     "data": {
      "text/plain": [
       "'Python   Great!'"
      ]
     },
     "execution_count": 45,
     "metadata": {},
     "output_type": "execute_result"
    }
   ],
   "source": [
    "\"   Python   Great!  \".strip(\" \") # 앞뒤 공백제거"
   ]
  },
  {
   "cell_type": "code",
   "execution_count": 46,
   "metadata": {},
   "outputs": [
    {
     "data": {
      "text/plain": [
       "'Python \\n  Great!'"
      ]
     },
     "execution_count": 46,
     "metadata": {},
     "output_type": "execute_result"
    }
   ],
   "source": [
    "\"   Python \\n  Great! \\n \".strip() # 공백과 개행문자 제거"
   ]
  },
  {
   "cell_type": "code",
   "execution_count": 47,
   "metadata": {},
   "outputs": [
    {
     "data": {
      "text/plain": [
       "'Python \\n  Great! \\n '"
      ]
     },
     "execution_count": 47,
     "metadata": {},
     "output_type": "execute_result"
    }
   ],
   "source": [
    "\"   Python \\n  Great! \\n \".lstrip() # 왼쪽"
   ]
  },
  {
   "cell_type": "code",
   "execution_count": 48,
   "metadata": {},
   "outputs": [
    {
     "data": {
      "text/plain": [
       "'   Python \\n  Great!'"
      ]
     },
     "execution_count": 48,
     "metadata": {},
     "output_type": "execute_result"
    }
   ],
   "source": [
    "\"   Python \\n  Great! \\n \".rstrip() # 오른쪽"
   ]
  },
  {
   "cell_type": "code",
   "execution_count": 50,
   "metadata": {},
   "outputs": [
    {
     "name": "stdout",
     "output_type": "stream",
     "text": [
      "철수님, 주소와 전화 번호를 입력해 주세요.\n",
      "영미님, 주소와 전화 번호를 입력해 주세요.\n"
     ]
    }
   ],
   "source": [
    "# 문자열 연결하기(join)\n",
    "name1 = \"철수\"\n",
    "name2 = \"영미\"\n",
    "\n",
    "hello = \"님, 주소와 전화 번호를 입력해 주세요.\"\n",
    "print(name1 + hello) # 더하기 연산자를 이용하면 문자열끼리 연결할 수 있다\n",
    "print(name2 + hello)"
   ]
  },
  {
   "cell_type": "code",
   "execution_count": 56,
   "metadata": {},
   "outputs": [
    {
     "data": {
      "text/plain": [
       "'서울시 서초구 반포대로 201(반포동)'"
      ]
     },
     "execution_count": 56,
     "metadata": {},
     "output_type": "execute_result"
    }
   ],
   "source": [
    "address_list = [\"서울시\", \"서초구\", \"반포대로\", \"201(반포동)\"]\n",
    "\n",
    "a = \" \" # 문자열 리스트를 공백으로 연결해서 문자열 생성\n",
    "a.join(address_list)"
   ]
  },
  {
   "cell_type": "code",
   "execution_count": 54,
   "metadata": {},
   "outputs": [
    {
     "data": {
      "text/plain": [
       "'서울시서초구반포대로201(반포동)'"
      ]
     },
     "execution_count": 54,
     "metadata": {},
     "output_type": "execute_result"
    }
   ],
   "source": [
    "a = \"\"\n",
    "a.join(address_list)"
   ]
  },
  {
   "cell_type": "code",
   "execution_count": 59,
   "metadata": {},
   "outputs": [
    {
     "data": {
      "text/plain": [
       "'서울시 서초구 반포대로 201(반포동)'"
      ]
     },
     "execution_count": 59,
     "metadata": {},
     "output_type": "execute_result"
    }
   ],
   "source": [
    "\" \".join(address_list)"
   ]
  },
  {
   "cell_type": "code",
   "execution_count": 60,
   "metadata": {},
   "outputs": [
    {
     "data": {
      "text/plain": [
       "'서울시★서초구★반포대로★201(반포동)'"
      ]
     },
     "execution_count": 60,
     "metadata": {},
     "output_type": "execute_result"
    }
   ],
   "source": [
    "\"★\".join(address_list)"
   ]
  },
  {
   "cell_type": "code",
   "execution_count": 62,
   "metadata": {},
   "outputs": [
    {
     "name": "stdout",
     "output_type": "stream",
     "text": [
      "Python문자열의 위치: 0\n",
      "code문자열의 위치: -1\n",
      "n문자열의 위치: 5\n",
      "easy문자열의 위치: -1\n"
     ]
    }
   ],
   "source": [
    "# 문자열 찾기(find)\n",
    "str_f = \"Python code.\"\n",
    "\n",
    "print(\"Python문자열의 위치:\", str_f.find(\"Python\")) # 찾고자 하는 문자열이 한 글자가 아니면 시작 위치 반환\n",
    "print(\"code문자열의 위치:\", str_f.find(\"code\")) # 대문자 Code는 못찾으므로 -1을 반환하게 된다\n",
    "print(\"n문자열의 위치:\", str_f.find(\"n\"))\n",
    "print(\"easy문자열의 위치:\", str_f.find(\"easy\"))"
   ]
  },
  {
   "cell_type": "code",
   "execution_count": 65,
   "metadata": {},
   "outputs": [
    {
     "name": "stdout",
     "output_type": "stream",
     "text": [
      "20\n",
      "-1\n",
      "-1\n"
     ]
    }
   ],
   "source": [
    "str_sen = \"Python is powerful. Python is easy to learn.\"\n",
    "\n",
    "print(str_sen.find(\"Python\", 10, 30)) # 시작 위치(start)와 끝 위치(end) 지정\n",
    "print(str_sen.find(\"Python\", 10, 15)) \n",
    "print(str_sen.find(\"Python\", 35)) # 시작 위치(start) 선정(끝 위치 생략가능, 생략시 마지막으로~)"
   ]
  },
  {
   "cell_type": "code",
   "execution_count": 68,
   "metadata": {},
   "outputs": [
    {
     "name": "stdout",
     "output_type": "stream",
     "text": [
      "Python의 개수는? 3\n",
      "powerful의 개수는? 1\n",
      "IPython의 개수는? 0\n"
     ]
    }
   ],
   "source": [
    "# 문자열 개수 찾기(count)\n",
    "str_count = \"Python is powerful. Python is easy to learn. Python is open.\"\n",
    "\n",
    "print(\"Python의 개수는?\", str_count.count(\"Python\")) # count는 찾고자 하는 문자열의 개수 반환\n",
    "print(\"powerful의 개수는?\", str_count.count(\"powerful\"))\n",
    "print(\"IPython의 개수는?\", str_count.count(\"IPython\"))"
   ]
  },
  {
   "cell_type": "code",
   "execution_count": 71,
   "metadata": {},
   "outputs": [
    {
     "name": "stdout",
     "output_type": "stream",
     "text": [
      "Python으로 시작? True\n",
      "is으로 시작? False\n",
      ".으로 끝 True\n",
      "learn으로 끝? False\n"
     ]
    }
   ],
   "source": [
    "# 문자열이 지정된 문자열로 시작하는지, 끝나는지 확인하는 메서드(startswith, endswith)\n",
    "\n",
    "print(\"Python으로 시작?\", str_sen.startswith(\"Python\"))\n",
    "print(\"is으로 시작?\", str_sen.startswith(\"is\"))\n",
    "print(\".으로 끝\", str_sen.endswith(\".\"))\n",
    "print(\"learn으로 끝?\", str_sen.endswith(\"learn\"))"
   ]
  },
  {
   "cell_type": "code",
   "execution_count": 73,
   "metadata": {},
   "outputs": [
    {
     "name": "stdout",
     "output_type": "stream",
     "text": [
      "IPython is fast. IPython is friendly. IPython is open.\n",
      "IPython is fast. IPython is friendly. Python is open.\n"
     ]
    }
   ],
   "source": [
    "# 문자열 찾아 바꾸기(replace)\n",
    "str_change = \"Python is fast. Python is friendly. Python is open.\"\n",
    "\n",
    "print(str_change.replace(\"Python\", \"IPython\"))\n",
    "print(str_change.replace(\"Python\", \"IPython\", 2)) # 끝의 인자는 앞에서 부터 바꾸는 개수"
   ]
  },
  {
   "cell_type": "code",
   "execution_count": 75,
   "metadata": {},
   "outputs": [
    {
     "name": "stdout",
     "output_type": "stream",
     "text": [
      "Python is fast Python is friendly Python is open\n",
      " is fast.  is friendly.  is open.\n",
      "Pythonisfast.Pythonisfriendly.Pythonisopen.\n"
     ]
    }
   ],
   "source": [
    "print(str_change.replace(\".\", \"\")) # 전체 문자열에서 특정 문자열을 찾아서 삭제할 경우에도 사용된다\n",
    "print(str_change.replace(\"Python\", \"\"))\n",
    "print(str_change.replace(\" \", \"\"))"
   ]
  },
  {
   "cell_type": "code",
   "execution_count": 84,
   "metadata": {},
   "outputs": [
    {
     "name": "stdout",
     "output_type": "stream",
     "text": [
      "True\n",
      "True\n",
      "True\n",
      "False\n",
      "False\n",
      "True\n"
     ]
    }
   ],
   "source": [
    "# 문자열의 구성 확인하기\n",
    "print(\"Python\".isalpha()) # 공백, 특수문자, 숫자 없음 TRUE\n",
    "print(\"123456\".isdigit()) # 모든 문자열 = 숫자 TRUE\n",
    "print(\"Python\".isalnum()) # 모든 문자열 = 숫자 or 문자 TRUE\n",
    "print(\"Python \".isspace()) # 모든 문자열이 공백 TRUE\n",
    "print(\"Python\".isupper()) # 모든 문자열 대문자 TRUE\n",
    "print(\"python\".islower()) # 모든 문자열 소문자 TRUE"
   ]
  },
  {
   "cell_type": "code",
   "execution_count": 85,
   "metadata": {},
   "outputs": [
    {
     "data": {
      "text/plain": [
       "'PERSONAL COLOR'"
      ]
     },
     "execution_count": 85,
     "metadata": {},
     "output_type": "execute_result"
    }
   ],
   "source": [
    "\"personal color\".upper()"
   ]
  },
  {
   "cell_type": "code",
   "execution_count": 86,
   "metadata": {},
   "outputs": [
    {
     "data": {
      "text/plain": [
       "'personal color'"
      ]
     },
     "execution_count": 86,
     "metadata": {},
     "output_type": "execute_result"
    }
   ],
   "source": [
    "'PERSONAL COLOR'.lower()"
   ]
  },
  {
   "cell_type": "code",
   "execution_count": 87,
   "metadata": {},
   "outputs": [
    {
     "data": {
      "text/plain": [
       "False"
      ]
     },
     "execution_count": 87,
     "metadata": {},
     "output_type": "execute_result"
    }
   ],
   "source": [
    "\"Python\" == \"python\" # 대소문자가 다르면 다른 문자열로 인식"
   ]
  },
  {
   "cell_type": "code",
   "execution_count": 91,
   "metadata": {},
   "outputs": [
    {
     "name": "stdout",
     "output_type": "stream",
     "text": [
      "날짜 에스프레소 아메리카노 카페라테 카푸치노\n",
      "10.15          10            50        45        20\n",
      "10.16          11            55        48        21\n",
      "10.17          12            56        49        22\n",
      "10.18          13            57        50        23\n"
     ]
    }
   ],
   "source": [
    "# 텍스트 파일 다루기\n",
    "# 이미 있는 파일 가져오기\n",
    "!type CoffeeSales.txt"
   ]
  },
  {
   "cell_type": "code",
   "execution_count": 93,
   "metadata": {},
   "outputs": [
    {
     "name": "stdout",
     "output_type": "stream",
     "text": [
      "날짜 에스프레소 아메리카노 카페라테 카푸치노\n",
      "10.15          10            50        45        20\n",
      "10.16          11            55        48        21\n",
      "10.17          12            56        49        22\n",
      "10.18          13            57        50        23\n"
     ]
    }
   ],
   "source": [
    "f = open(\"CoffeeSales.txt\")\n",
    "for line in f:\n",
    "    print(line, end=\"\")\n",
    "    \n",
    "f.close()"
   ]
  },
  {
   "cell_type": "code",
   "execution_count": 96,
   "metadata": {},
   "outputs": [
    {
     "data": {
      "text/plain": [
       "'날짜 에스프레소 아메리카노 카페라테 카푸치노\\n'"
      ]
     },
     "execution_count": 96,
     "metadata": {},
     "output_type": "execute_result"
    }
   ],
   "source": [
    "f = open(\"CoffeeSales.txt\")\n",
    "header = f.readline()\n",
    "f.close()\n",
    "header"
   ]
  },
  {
   "cell_type": "code",
   "execution_count": 99,
   "metadata": {},
   "outputs": [
    {
     "data": {
      "text/plain": [
       "['날짜', '에스프레소', '아메리카노', '카페라테', '카푸치노']"
      ]
     },
     "execution_count": 99,
     "metadata": {},
     "output_type": "execute_result"
    }
   ],
   "source": [
    "header_list = header.split() # 첫 줄의 문자열을 분리후 리스트로 변환\n",
    "header_list"
   ]
  },
  {
   "cell_type": "code",
   "execution_count": 103,
   "metadata": {},
   "outputs": [
    {
     "name": "stdout",
     "output_type": "stream",
     "text": [
      "['10.15', '10', '50', '45', '20']\n",
      "['10.16', '11', '55', '48', '21']\n",
      "['10.17', '12', '56', '49', '22']\n",
      "['10.18', '13', '57', '50', '23']\n"
     ]
    }
   ],
   "source": [
    "f = open(\"CoffeeSales.txt\")\n",
    "header = f.readline() # 데이터의 첫 번째 줄 읽음\n",
    "\n",
    "for line in f:\n",
    "    data_list = line.split()\n",
    "    print(data_list)\n",
    "    \n",
    "f.close()"
   ]
  },
  {
   "cell_type": "code",
   "execution_count": 105,
   "metadata": {},
   "outputs": [
    {
     "name": "stdout",
     "output_type": "stream",
     "text": [
      "에스프레소: [10, 11, 12, 13]\n",
      "아메리카노: [50, 55, 56, 57]\n",
      "카페라테: [45, 48, 49, 50]\n",
      "카푸치노: [20, 21, 22, 23]\n"
     ]
    }
   ],
   "source": [
    "f = open(\"CoffeeSales.txt\")\n",
    "header = f.readline() # 데이터의 첫 번째 줄 읽음\n",
    "header_list = header.split()\n",
    "\n",
    "espresso = []\n",
    "americano = []\n",
    "cafelatte = []\n",
    "cappucino = []\n",
    "\n",
    "for line in f:\n",
    "    data_list = line.split()\n",
    "    \n",
    "    # 커피 종류별로 정수로 변환 후 리스트의 항목으로 추가\n",
    "    espresso.append(int(data_list[1]))\n",
    "    americano.append(int(data_list[2]))\n",
    "    cafelatte.append(int(data_list[3]))\n",
    "    cappucino.append(int(data_list[4]))\n",
    "    \n",
    "f.close()\n",
    "\n",
    "print(\"{0}: {1}\".format(header_list[1], espresso)) # 변수에 할당된 값을 출력\n",
    "print(\"{0}: {1}\".format(header_list[2], americano))\n",
    "print(\"{0}: {1}\".format(header_list[3], cafelatte))\n",
    "print(\"{0}: {1}\".format(header_list[4], cappucino))"
   ]
  },
  {
   "cell_type": "code",
   "execution_count": 107,
   "metadata": {},
   "outputs": [
    {
     "name": "stdout",
     "output_type": "stream",
     "text": [
      "[에스프레소] 판매량\n",
      "- 전체: 46, 하루 평균: 11.5\n",
      "[아메리카노] 판매량\n",
      "- 전체: 218, 하루 평균: 54.5\n",
      "[카페라테] 판매량\n",
      "- 전체: 192, 하루 평균: 48.0\n",
      "[카푸치노] 판매량\n",
      "- 전체: 86, 하루 평균: 21.5\n"
     ]
    }
   ],
   "source": [
    "total_sum = [sum(espresso), sum(americano), sum(cafelatte), sum(cappucino)]\n",
    "total_avg = [sum(espresso)/len(espresso), sum(americano)/len(americano), sum(cafelatte)/len(cafelatte), sum(cappucino)/len(cappucino)]\n",
    "\n",
    "for i in range(len(total_sum)):\n",
    "    print(\"[{0}] 판매량\".format(header_list[i+1]))\n",
    "    print(\"- 전체: {0}, 하루 평균: {1}\".format(total_sum[i], total_avg[i]))"
   ]
  },
  {
   "cell_type": "code",
   "execution_count": null,
   "metadata": {},
   "outputs": [],
   "source": []
  }
 ],
 "metadata": {
  "kernelspec": {
   "display_name": "Python 3",
   "language": "python",
   "name": "python3"
  },
  "language_info": {
   "codemirror_mode": {
    "name": "ipython",
    "version": 3
   },
   "file_extension": ".py",
   "mimetype": "text/x-python",
   "name": "python",
   "nbconvert_exporter": "python",
   "pygments_lexer": "ipython3",
   "version": "3.7.3"
  }
 },
 "nbformat": 4,
 "nbformat_minor": 2
}
