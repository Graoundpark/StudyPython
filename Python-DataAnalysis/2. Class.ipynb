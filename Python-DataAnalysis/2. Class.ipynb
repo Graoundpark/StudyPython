{
 "cells": [
  {
   "cell_type": "markdown",
   "metadata": {},
   "source": [
    "### 클래스"
   ]
  },
  {
   "cell_type": "code",
   "execution_count": 7,
   "metadata": {},
   "outputs": [],
   "source": [
    "# Class 기본\n",
    "class Bicycle():\n",
    "    \n",
    "    def move(self, speed):\n",
    "        print(\"자전거: 시속 {0}킬로미터로 전진\".format(speed))\n",
    "    \n",
    "    def turn(self, direction):\n",
    "        print(\"자전거: {0}회전\".format(direction))\n",
    "        \n",
    "    def stop(self):\n",
    "        print(\"자전거({0}, {1}): 정지\".format(self.WheelSize, self.Color))    "
   ]
  },
  {
   "cell_type": "code",
   "execution_count": 8,
   "metadata": {
    "scrolled": true
   },
   "outputs": [
    {
     "name": "stdout",
     "output_type": "stream",
     "text": [
      "자전거: 시속 30킬로미터로 전진\n",
      "자전거: 좌회전\n",
      "자전거(26, Black): 정지\n"
     ]
    }
   ],
   "source": [
    "myBicycle = Bicycle()\n",
    "myBicycle.WheelSize = 26\n",
    "myBicycle.Color = \"Black\"\n",
    "\n",
    "myBicycle.move(30)\n",
    "myBicycle.turn(\"좌\")\n",
    "myBicycle.stop()"
   ]
  },
  {
   "cell_type": "code",
   "execution_count": 9,
   "metadata": {},
   "outputs": [],
   "source": [
    "# class 생성자\n",
    "class Bicycle():\n",
    "    \n",
    "    def __init__(self, WheelSize, Color):\n",
    "        self.WheelSize = WheelSize\n",
    "        self.Color = Color\n",
    "    \n",
    "    def move(self, speed):\n",
    "        print(\"자전거: 시속 {0}킬로미터로 전진\".format(speed))\n",
    "    \n",
    "    def turn(self, direction):\n",
    "        print(\"자전거: {0}회전\".format(direction))\n",
    "        \n",
    "    def stop(self):\n",
    "        print(\"자전거({0}, {1}): 정지\".format(self.WheelSize, self.Color))   "
   ]
  },
  {
   "cell_type": "code",
   "execution_count": 10,
   "metadata": {},
   "outputs": [
    {
     "name": "stdout",
     "output_type": "stream",
     "text": [
      "자전거: 시속 30킬로미터로 전진\n",
      "자전거: 좌회전\n",
      "자전거(18, Red): 정지\n"
     ]
    }
   ],
   "source": [
    "myBicycle = Bicycle(18,\"Red\")\n",
    "\n",
    "myBicycle.move(30)\n",
    "myBicycle.turn(\"좌\")\n",
    "myBicycle.stop()"
   ]
  },
  {
   "cell_type": "code",
   "execution_count": 11,
   "metadata": {},
   "outputs": [],
   "source": [
    "# 클래스 변수와 멤버 변수(인스턴스 변수)\n",
    "class Car():\n",
    "    count = 0 # 클래스 변수 생성 및 초기화\n",
    "    \n",
    "    def __init__(self, size, color, num):\n",
    "        self.size = size\n",
    "        self.color = color\n",
    "        self.count = num\n",
    "        Car.count += 1\n",
    "        print(\"자동차 객체의 수: {0}\".format(Car.count))\n",
    "    \n",
    "    def move(self):\n",
    "        print(\"자동차({0} & {1})가 움직입니다. 인스턴스의 count {2}: \".format(self.size, self.color, self.count))"
   ]
  },
  {
   "cell_type": "code",
   "execution_count": 12,
   "metadata": {},
   "outputs": [
    {
     "name": "stdout",
     "output_type": "stream",
     "text": [
      "자동차 객체의 수: 1\n",
      "자동차 객체의 수: 2\n"
     ]
    }
   ],
   "source": [
    "Car1 = Car(\"small\", \"white\", 10)\n",
    "Car2 = Car(\"large\", \"Black\", 15)"
   ]
  },
  {
   "cell_type": "code",
   "execution_count": 13,
   "metadata": {},
   "outputs": [
    {
     "data": {
      "text/plain": [
       "2"
      ]
     },
     "execution_count": 13,
     "metadata": {},
     "output_type": "execute_result"
    }
   ],
   "source": [
    "Car.count # Static 멤버 변수와 비슷한 듯"
   ]
  },
  {
   "cell_type": "code",
   "execution_count": 14,
   "metadata": {},
   "outputs": [
    {
     "name": "stdout",
     "output_type": "stream",
     "text": [
      "10\n",
      "15\n"
     ]
    }
   ],
   "source": [
    "print(Car1.count) # 클래스 변수도 멤버 변수 형식으로 접근할 수 있음\n",
    "print(Car2.count)"
   ]
  },
  {
   "cell_type": "code",
   "execution_count": 15,
   "metadata": {},
   "outputs": [
    {
     "name": "stdout",
     "output_type": "stream",
     "text": [
      "자동차(small & white)가 움직입니다. 인스턴스의 count 10: \n",
      "자동차(large & Black)가 움직입니다. 인스턴스의 count 15: \n"
     ]
    }
   ],
   "source": [
    "Car1.move()\n",
    "Car2.move()"
   ]
  },
  {
   "cell_type": "code",
   "execution_count": 16,
   "metadata": {},
   "outputs": [],
   "source": [
    "# 클래스에서 사용하는 함수\n",
    "# 인스턴스 메서드, 클래스 메서드, 정적 메서드\n",
    "class Car():\n",
    "    instance_count = 0 # 클래스 변수\n",
    "    \n",
    "    def __init__(self, size, color):\n",
    "        self.size = size\n",
    "        self.color = color\n",
    "        Car.instance_count += 1\n",
    "        print(\"(클래스 변수) 자동차 객체 수: {0}\".format(Car.instance_count))\n",
    "\n",
    "    def move(self, speed):\n",
    "        self.speed = speed # 인스턴스 변수 생성\n",
    "        print(\"(인스턴스 메서드) 자동차({0} & {1})가\".format(self.size, self.color), end=\" \")\n",
    "        print(\"시속 {0}km로 전진\".format(self.speed))\n",
    "        \n",
    "    def auto_cruise(self):\n",
    "        print(\"(인스턴스 메서드) 자율 주행 모드\")\n",
    "        self.move(self.speed)\n",
    "              \n",
    "    @staticmethod # 정적 메서드 (Static 함수와 비슷)\n",
    "    def check_type(model_code):\n",
    "        if model_code >= 20 :\n",
    "              print(\"(정적 메서드) 이 차는 전기차 입니다.\")\n",
    "        elif 10 <= model_code < 20 :\n",
    "              print(\"(정적 메서드) 이 차는 가솔린 입니다.\")\n",
    "        else :\n",
    "              print(\"(정적 메서드) 이 차는 경유차 입니다.\")\n",
    "              \n",
    "    @classmethod # 클래스 메서드 (클래스 변수를 쓰기 위한 함수)\n",
    "    def count_instance(hh):\n",
    "              print(\"(클래스 메서드) 자동차 객체의 개수: {0}\".format(hh.instance_count))"
   ]
  },
  {
   "cell_type": "code",
   "execution_count": 17,
   "metadata": {},
   "outputs": [
    {
     "name": "stdout",
     "output_type": "stream",
     "text": [
      "(클래스 변수) 자동차 객체 수: 1\n",
      "(클래스 변수) 자동차 객체 수: 2\n",
      "\n",
      "(인스턴스 메서드) 자동차(small & red)가 시속 80km로 전진\n",
      "(인스턴스 메서드) 자동차(large & black)가 시속 100km로 전진\n",
      "(인스턴스 메서드) 자율 주행 모드\n",
      "(인스턴스 메서드) 자동차(small & red)가 시속 80km로 전진\n",
      "(인스턴스 메서드) 자율 주행 모드\n",
      "(인스턴스 메서드) 자동차(large & black)가 시속 100km로 전진\n",
      "\n",
      "(정적 메서드) 이 차는 전기차 입니다.\n",
      "(정적 메서드) 이 차는 경유차 입니다.\n",
      "\n",
      "(클래스 메서드) 자동차 객체의 개수: 2\n",
      "(클래스 변수) 자동차 객체 수: 3\n",
      "(클래스 메서드) 자동차 객체의 개수: 3\n"
     ]
    }
   ],
   "source": [
    "car1 = Car(\"small\", \"red\")\n",
    "car2 = Car(\"large\", \"black\")\n",
    "print(\"\")\n",
    "\n",
    "car1.move(80) # 객체의 멤버 함수 호출\n",
    "car2.move(100)\n",
    "car1.auto_cruise() \n",
    "car2.auto_cruise()\n",
    "print(\"\")\n",
    "\n",
    "Car.check_type(25) # 정적 함수 호출\n",
    "Car.check_type(2)\n",
    "print(\"\")\n",
    "\n",
    "Car.count_instance() # 클래스 함수 호출\n",
    "Car3 = Car(\"midium\", \"green\")\n",
    "Car.count_instance()"
   ]
  },
  {
   "cell_type": "code",
   "execution_count": 18,
   "metadata": {},
   "outputs": [],
   "source": [
    "# 클래스 상속\n",
    "class FoldingBicycle(Bicycle):\n",
    "    \n",
    "    def __init__(self, WheelSize, Color, State): # FoldingBicycle 초기화\n",
    "        Bicycle.__init__(self, WheelSize, Color) # Bicycle 초기화\n",
    "        super().__init__(WheelSize, Color) # super()도 사용 가능\n",
    "        self.state = State\n",
    "        \n",
    "    def fold(self):\n",
    "        self.state = \"folding\"\n",
    "        print(\"자전거: 접기, state = {0}\".format(self.state))\n",
    "        \n",
    "    def unfold(self):\n",
    "        self.state = \"unfolding\"\n",
    "        print(\"자전거: 펴기, state = {0}\".format(self.state))"
   ]
  },
  {
   "cell_type": "code",
   "execution_count": 19,
   "metadata": {},
   "outputs": [
    {
     "name": "stdout",
     "output_type": "stream",
     "text": [
      "자전거: 시속 20킬로미터로 전진\n",
      "자전거: 접기, state = folding\n",
      "자전거: 펴기, state = unfolding\n"
     ]
    }
   ],
   "source": [
    "myFoldingBicycle = FoldingBicycle(27, \"Black\", \"unfolding\")\n",
    "\n",
    "myFoldingBicycle.move(20) # 부모 메서드\n",
    "myFoldingBicycle.fold() # 자식 메서드\n",
    "myFoldingBicycle.unfold()"
   ]
  }
 ],
 "metadata": {
  "kernelspec": {
   "display_name": "Python 3",
   "language": "python",
   "name": "python3"
  },
  "language_info": {
   "codemirror_mode": {
    "name": "ipython",
    "version": 3
   },
   "file_extension": ".py",
   "mimetype": "text/x-python",
   "name": "python",
   "nbconvert_exporter": "python",
   "pygments_lexer": "ipython3",
   "version": "3.7.3"
  }
 },
 "nbformat": 4,
 "nbformat_minor": 2
}
