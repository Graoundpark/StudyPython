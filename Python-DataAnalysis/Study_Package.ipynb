{
 "cells": [
  {
   "cell_type": "markdown",
   "metadata": {},
   "source": [
    "### 패키지"
   ]
  },
  {
   "cell_type": "code",
   "execution_count": 1,
   "metadata": {},
   "outputs": [],
   "source": [
    "## 파이썬에서 모듈은 코드가 저장된 파일임\n",
    "## 어떤 기능을 구현할 때 하나의 모듈보다는 여러개의 모듈로 구현하는 경우가 많음\n",
    "## 이때 여러 모듈을 체계적으로 모아서 관리하는 꾸러미를 패키지 라고 함"
   ]
  },
  {
   "cell_type": "code",
   "execution_count": 2,
   "metadata": {},
   "outputs": [],
   "source": [
    "# 파이썬 패키지는 폴더 구조로 돼 있으며 각 폴더에는 '__init__.py'라는 특별한 파일이 있음\n",
    "# 이 파일은 해당 폴더가 패키지의 일부인 것을 알려주는 역할"
   ]
  },
  {
   "cell_type": "code",
   "execution_count": 6,
   "metadata": {},
   "outputs": [
    {
     "name": "stderr",
     "output_type": "stream",
     "text": [
      "하위 디렉터리 또는 파일 C:\\Users\\GroundPark\\Documents\\Jupyter\\packages\\image이(가) 이미 있습니다.\n",
      "다음 내용 진행 중 오류 발생: C:\\Users\\GroundPark\\Documents\\Jupyter\\packages\\image.\n",
      "하위 디렉터리 또는 파일 C:\\Users\\GroundPark\\Documents\\Jupyter\\packages\\image\\io_file이(가) 이미 있습니다.\n",
      "다음 내용 진행 중 오류 발생: C:\\Users\\GroundPark\\Documents\\Jupyter\\packages\\image\\io_file.\n"
     ]
    }
   ],
   "source": [
    "mkdir C:\\Users\\GroundPark\\Documents\\Jupyter\\packages\\image; C:\\Users\\GroundPark\\Documents\\Jupyter\\packages\\image\\io_file"
   ]
  },
  {
   "cell_type": "code",
   "execution_count": 7,
   "metadata": {},
   "outputs": [
    {
     "name": "stdout",
     "output_type": "stream",
     "text": [
      "Writing C:\\Users\\GroundPark\\Documents\\Jupyter\\packages\\image\\__init__.py\n"
     ]
    }
   ],
   "source": [
    "%%writefile C:\\Users\\GroundPark\\Documents\\Jupyter\\packages\\image\\__init__.py\n",
    "    # file name : __init__.py"
   ]
  },
  {
   "cell_type": "code",
   "execution_count": 8,
   "metadata": {},
   "outputs": [
    {
     "name": "stdout",
     "output_type": "stream",
     "text": [
      "Writing C:\\Users\\GroundPark\\Documents\\Jupyter\\packages\\image\\io_file\\__init__.py\n"
     ]
    }
   ],
   "source": [
    "%%writefile C:\\Users\\GroundPark\\Documents\\Jupyter\\packages\\image\\io_file\\__init__.py\n",
    "    # file name : __init__.py"
   ]
  },
  {
   "cell_type": "code",
   "execution_count": 22,
   "metadata": {},
   "outputs": [
    {
     "name": "stdout",
     "output_type": "stream",
     "text": [
      "Overwriting C:\\Users\\GroundPark\\Documents\\Jupyter\\packages\\image\\io_file\\imgread.py\n"
     ]
    }
   ],
   "source": [
    "%%writefile C:\\Users\\GroundPark\\Documents\\Jupyter\\packages\\image\\io_file\\imgread.py\n",
    "# file name : imgread.py\n",
    "    \n",
    "def pngread():\n",
    "    print(\"pngread in imgread module\")\n",
    "        \n",
    "def jpgread():\n",
    "    print(\"jpgread in imgread module\")"
   ]
  },
  {
   "cell_type": "code",
   "execution_count": 23,
   "metadata": {},
   "outputs": [
    {
     "name": "stdout",
     "output_type": "stream",
     "text": [
      "폴더 PATH의 목록입니다.\n",
      "볼륨 일련 번호는 02FB-5CDF입니다.\n",
      "C:\\USERS\\GROUNDPARK\\DOCUMENTS\\JUPYTER\\PACKAGES\n",
      "└─image\n",
      "    │  __init__.py\n",
      "    │  \n",
      "    ├─io_file\n",
      "    │  │  imgread.py\n",
      "    │  │  __init__.py\n",
      "    │  │  \n",
      "    │  └─__pycache__\n",
      "    │          __init__.cpython-37.pyc\n",
      "    │          \n",
      "    └─__pycache__\n",
      "            __init__.cpython-37.pyc\n",
      "            \n"
     ]
    }
   ],
   "source": [
    "!tree /F C:\\Users\\GroundPark\\Documents\\Jupyter\\packages\n",
    "    # tree는 트리구조로 볼수 있는 시스템 명령어, /F는 파일까지 표시"
   ]
  },
  {
   "cell_type": "code",
   "execution_count": 25,
   "metadata": {},
   "outputs": [
    {
     "name": "stdout",
     "output_type": "stream",
     "text": [
      "pngread in imgread module\n",
      "jpgread in imgread module\n"
     ]
    }
   ],
   "source": [
    "import image.io_file.imgread # image 패키지 io_file 폴더의 imgread 모듈 임포트\n",
    "\n",
    "image.io_file.imgread.pngread() # imgread 모듈 내의 pngread() 함수 호출\n",
    "image.io_file.imgread.jpgread()"
   ]
  },
  {
   "cell_type": "code",
   "execution_count": 26,
   "metadata": {},
   "outputs": [
    {
     "name": "stdout",
     "output_type": "stream",
     "text": [
      "pngread in imgread module\n",
      "jpgread in imgread module\n"
     ]
    }
   ],
   "source": [
    "from image.io_file import imgread # from을 통해 간단하게 호출\n",
    "\n",
    "imgread.pngread()\n",
    "imgread.jpgread()"
   ]
  },
  {
   "cell_type": "code",
   "execution_count": 27,
   "metadata": {},
   "outputs": [
    {
     "name": "stdout",
     "output_type": "stream",
     "text": [
      "pngread in imgread module\n",
      "jpgread in imgread module\n"
     ]
    }
   ],
   "source": [
    "from image.io_file.imgread import * # 더 간단하게 호출\n",
    "\n",
    "pngread()\n",
    "jpgread()"
   ]
  },
  {
   "cell_type": "code",
   "execution_count": 28,
   "metadata": {},
   "outputs": [
    {
     "name": "stdout",
     "output_type": "stream",
     "text": [
      "pngread in imgread module\n",
      "jpgread in imgread module\n"
     ]
    }
   ],
   "source": [
    "from image.io_file import imgread as img # 별명\n",
    "\n",
    "img.pngread()\n",
    "img.jpgread()"
   ]
  },
  {
   "cell_type": "code",
   "execution_count": null,
   "metadata": {},
   "outputs": [],
   "source": [
    "## 정리 ##\n",
    "## 파이썬의 표준 라이브러리에 있는 내장 모듈과 패키지 외에도 활용도가 아주 높은\n",
    "## 다양한 모듈과 패키지가 공개되어 있음\n",
    "## 공개 모듈과 패키지를 잘 활용하면 멋진 기능을 수행할 수 있음"
   ]
  }
 ],
 "metadata": {
  "kernelspec": {
   "display_name": "Python 3",
   "language": "python",
   "name": "python3"
  },
  "language_info": {
   "codemirror_mode": {
    "name": "ipython",
    "version": 3
   },
   "file_extension": ".py",
   "mimetype": "text/x-python",
   "name": "python",
   "nbconvert_exporter": "python",
   "pygments_lexer": "ipython3",
   "version": "3.7.3"
  }
 },
 "nbformat": 4,
 "nbformat_minor": 2
}
