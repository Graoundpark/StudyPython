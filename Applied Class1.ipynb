{
 "cells": [
  {
   "cell_type": "markdown",
   "metadata": {},
   "source": [
    "**제어문, 입출력(마찬가지로 기존과 다른 부분만 작성)**"
   ]
  },
  {
   "cell_type": "code",
   "execution_count": 3,
   "metadata": {},
   "outputs": [
    {
     "name": "stdout",
     "output_type": "stream",
     "text": [
      "Good\n"
     ]
    }
   ],
   "source": [
    "# 조건문\n",
    "x = 85\n",
    "if x >= 90:\n",
    "    print(\"very good\")\n",
    "# elif ( x >= 80 ) and ( x < 90 ):\n",
    "elif 80 <= x < 90: \n",
    "    print(\"Good\")\n",
    "else :\n",
    "    print(\"Nice\")"
   ]
  },
  {
   "cell_type": "code",
   "execution_count": 5,
   "metadata": {},
   "outputs": [
    {
     "name": "stdout",
     "output_type": "stream",
     "text": [
      "nothing\n"
     ]
    }
   ],
   "source": [
    "if x >= 80:\n",
    "    pass\n",
    "else:\n",
    "    print(\"wow\")\n",
    "    \n",
    "print(\"nothing\")"
   ]
  },
  {
   "cell_type": "code",
   "execution_count": 6,
   "metadata": {},
   "outputs": [
    {
     "name": "stdout",
     "output_type": "stream",
     "text": [
      "0\n",
      "1\n",
      "2\n",
      "3\n",
      "4\n",
      "5\n"
     ]
    }
   ],
   "source": [
    "# 반복문\n",
    "for a in [0,1,2,3,4,5]:\n",
    "    print(a)"
   ]
  },
  {
   "cell_type": "code",
   "execution_count": 8,
   "metadata": {},
   "outputs": [
    {
     "name": "stdout",
     "output_type": "stream",
     "text": [
      "0\n",
      "2\n",
      "4\n"
     ]
    }
   ],
   "source": [
    "for a in range(0,6,2):\n",
    "    print(a)"
   ]
  },
  {
   "cell_type": "code",
   "execution_count": 9,
   "metadata": {},
   "outputs": [
    {
     "name": "stdout",
     "output_type": "stream",
     "text": [
      "0\n",
      "1\n",
      "2\n",
      "3\n",
      "4\n",
      "5\n"
     ]
    }
   ],
   "source": [
    "for a in range(0,6): # Step이 1인 경우엔 생략\n",
    "    print(a)"
   ]
  },
  {
   "cell_type": "code",
   "execution_count": 10,
   "metadata": {},
   "outputs": [
    {
     "name": "stdout",
     "output_type": "stream",
     "text": [
      "0\n",
      "1\n",
      "2\n",
      "3\n",
      "4\n",
      "5\n"
     ]
    }
   ],
   "source": [
    "for a in range(6): # Start가 0인 경우 생략\n",
    "    print(a)"
   ]
  },
  {
   "cell_type": "code",
   "execution_count": 15,
   "metadata": {},
   "outputs": [
    {
     "name": "stdout",
     "output_type": "stream",
     "text": [
      "JS 90\n",
      "YJ 98\n",
      "JY 85\n",
      "Jessica 72\n"
     ]
    }
   ],
   "source": [
    "names = [\"JS\", \"YJ\", \"JY\", \"Jessica\"]\n",
    "scores = [90, 98, 85, 72]\n",
    "\n",
    "for Idx in range(len(names)):\n",
    "    print(names[Idx], scores[Idx])"
   ]
  },
  {
   "cell_type": "code",
   "execution_count": 16,
   "metadata": {},
   "outputs": [
    {
     "name": "stdout",
     "output_type": "stream",
     "text": [
      "JS 90\n",
      "JY 85\n"
     ]
    }
   ],
   "source": [
    "for Idx in range(0, len(names), 2):\n",
    "    print(names[Idx], scores[Idx])"
   ]
  },
  {
   "cell_type": "code",
   "execution_count": 17,
   "metadata": {},
   "outputs": [
    {
     "name": "stdout",
     "output_type": "stream",
     "text": [
      "JS 90\n",
      "YJ 98\n",
      "JY 85\n",
      "Jessica 72\n"
     ]
    }
   ],
   "source": [
    "# zip 활용 -> for val1, val2 in zip(list1, list2)\n",
    "for name, score in zip(names, scores):\n",
    "    print(name, score)"
   ]
  },
  {
   "cell_type": "code",
   "execution_count": 18,
   "metadata": {},
   "outputs": [
    {
     "name": "stdout",
     "output_type": "stream",
     "text": [
      "0\n",
      "1\n",
      "2\n",
      "3\n",
      "4\n",
      "5\n",
      "6\n",
      "7\n",
      "8\n",
      "9\n"
     ]
    }
   ],
   "source": [
    "# While\n",
    "sum = 0\n",
    "while(sum < 10):\n",
    "    print(sum)\n",
    "    sum += 1"
   ]
  },
  {
   "cell_type": "code",
   "execution_count": 19,
   "metadata": {},
   "outputs": [
    {
     "name": "stdout",
     "output_type": "stream",
     "text": [
      "1\n",
      "2\n",
      "3\n"
     ]
    }
   ],
   "source": [
    "k = 0\n",
    "while True:\n",
    "    k += 1\n",
    "    if ( k > 3 ):\n",
    "        break\n",
    "    \n",
    "    print(k)"
   ]
  },
  {
   "cell_type": "code",
   "execution_count": null,
   "metadata": {},
   "outputs": [],
   "source": []
  },
  {
   "cell_type": "code",
   "execution_count": 31,
   "metadata": {},
   "outputs": [
    {
     "name": "stdout",
     "output_type": "stream",
     "text": [
      "[1, 4, 9, 16, 25]\n"
     ]
    }
   ],
   "source": [
    "# 컴프리헨션\n",
    "numbers = [1,2,3,4,5]\n",
    "square = []\n",
    "\n",
    "for i in numbers:\n",
    "        square.append(i**2)\n",
    "    \n",
    "print(square)"
   ]
  },
  {
   "cell_type": "code",
   "execution_count": 32,
   "metadata": {},
   "outputs": [
    {
     "data": {
      "text/plain": [
       "[1, 4, 9, 16, 25]"
      ]
     },
     "execution_count": 32,
     "metadata": {},
     "output_type": "execute_result"
    }
   ],
   "source": [
    "# 리스트 컴프리헨션(반복 실행문 for 반복변수 in 반복범위)\n",
    "square2 = [i**2 for i in numbers]\n",
    "square2"
   ]
  },
  {
   "cell_type": "code",
   "execution_count": 33,
   "metadata": {},
   "outputs": [
    {
     "name": "stdout",
     "output_type": "stream",
     "text": [
      "[9, 16, 25]\n"
     ]
    }
   ],
   "source": [
    "# 컴프리헨션\n",
    "numbers = [1,2,3,4,5]\n",
    "square = []\n",
    "\n",
    "for i in numbers:\n",
    "    if i >= 3:\n",
    "        square.append(i**2)\n",
    "    \n",
    "print(square)"
   ]
  },
  {
   "cell_type": "code",
   "execution_count": 34,
   "metadata": {},
   "outputs": [
    {
     "data": {
      "text/plain": [
       "[9, 16, 25]"
      ]
     },
     "execution_count": 34,
     "metadata": {},
     "output_type": "execute_result"
    }
   ],
   "source": [
    "# 리스트 컴프리헨션(반복 실행문 for 반복변수 in 반복범위 if 조건문)\n",
    "square2 = [i**2 for i in numbers if i >= 3]\n",
    "square2"
   ]
  },
  {
   "cell_type": "code",
   "execution_count": 41,
   "metadata": {},
   "outputs": [
    {
     "name": "stdout",
     "output_type": "stream",
     "text": [
      "No Pains No Gains\n",
      "No-Pains-No-Gains\n",
      "NoPainsNoGains\n",
      "No Pains\n",
      "No Gains\n"
     ]
    }
   ],
   "source": [
    "# 입출력\n",
    "# 기본 출력\n",
    "print(\"No\", \"Pains\", \"No\", \"Gains\") # 문자열 여러 개 연결해 출력하려면 콤마로 구분\n",
    "print(\"No\", \"Pains\", \"No\", \"Gains\", sep = \"-\") # 빈칸 대신 다른 문자열을 넣으려면 sep = 문자열을 추가\n",
    "print(\"No\"+\"Pains\"+\"No\"+\"Gains\") # 빈칸 없이 두 문자열 연결하려면 + 연산자\n",
    "print(\"No\", \"Pains\" \"\\nNo\", \"Gains\") # 개행 문자는 따옴표 안으로~"
   ]
  },
  {
   "cell_type": "code",
   "execution_count": 44,
   "metadata": {},
   "outputs": [
    {
     "name": "stdout",
     "output_type": "stream",
     "text": [
      "반지름: 3, 원주율: 3.141593\n"
     ]
    }
   ],
   "source": [
    "# 형식 지정 출력\n",
    "r = 3\n",
    "PI = 3.14159265358979\n",
    "print(\"반지름: %d, 원주율: %f\" %(r, PI))"
   ]
  },
  {
   "cell_type": "code",
   "execution_count": 50,
   "metadata": {},
   "outputs": [
    {
     "name": "stdout",
     "output_type": "stream",
     "text": [
      "Animal: cat\n",
      "Animal: cat,dog,fox\n",
      "Animal: cat,fox\n",
      "Animal: cat,dog,fox\n"
     ]
    }
   ],
   "source": [
    "animal1 = \"cat\"\n",
    "animal2 = \"dog\"\n",
    "animal3 = \"fox\"\n",
    "\n",
    "print(\"Animal: {0}\".format(animal1))\n",
    "print(\"Animal: {0},{1},{2}\".format(animal1, animal2, animal3))\n",
    "print(\"Animal: {0},{2}\".format(animal1, animal2, animal3))\n",
    "print(\"Animal: {},{},{}\".format(animal1, animal2, animal3))"
   ]
  },
  {
   "cell_type": "code",
   "execution_count": 52,
   "metadata": {},
   "outputs": [
    {
     "name": "stdout",
     "output_type": "stream",
     "text": [
      "String: GroundP. Integer Number: 30. Floating Number: 180.8948126478365\n"
     ]
    }
   ],
   "source": [
    "# 출력 형식을 따로 지정하지 않아도 됨\n",
    "name = \"GroundP\"\n",
    "age = 30\n",
    "Height = 180.894812647836478\n",
    "str = \"String: {0}. Integer Number: {1}. Floating Number: {2}\"\n",
    "print(str.format(name, age, Height))"
   ]
  },
  {
   "cell_type": "code",
   "execution_count": 58,
   "metadata": {},
   "outputs": [
    {
     "name": "stdout",
     "output_type": "stream",
     "text": [
      "180.89, 180.89481\n"
     ]
    }
   ],
   "source": [
    "print(\"{0:.2f}, {0:.5f}\".format(Height))"
   ]
  },
  {
   "cell_type": "code",
   "execution_count": 65,
   "metadata": {},
   "outputs": [
    {
     "name": "stdout",
     "output_type": "stream",
     "text": [
      "74,560,000 \n",
      " 00012 \n",
      " 32.58% \n",
      " 0b101\n"
     ]
    }
   ],
   "source": [
    "print(\"{0:,} \\n {1:05d} \\n {2:.2%} \\n {3:#b}\".format(74560000, 12, 0.3258, 5))"
   ]
  },
  {
   "cell_type": "code",
   "execution_count": 68,
   "metadata": {},
   "outputs": [
    {
     "name": "stdout",
     "output_type": "stream",
     "text": [
      "숫자를 입력하세요: 15\n",
      "입력은 15 입니다\n"
     ]
    }
   ],
   "source": [
    "# 입력\n",
    "num = input(\"숫자를 입력하세요: \")\n",
    "print(\"입력은 {} 입니다\".format(num))"
   ]
  },
  {
   "cell_type": "code",
   "execution_count": 73,
   "metadata": {},
   "outputs": [],
   "source": [
    "# 파일 읽고 쓰기\n",
    "f = open(\"File_Test.txt\", \"w\")\n",
    "f.write(str)\n",
    "f.close()"
   ]
  },
  {
   "cell_type": "code",
   "execution_count": 74,
   "metadata": {},
   "outputs": [
    {
     "name": "stdout",
     "output_type": "stream",
     "text": [
      "C:\\Users\\GroundPark\\Documents\\Jupyter\\data\n"
     ]
    }
   ],
   "source": [
    "cd C:\\Users\\GroundPark\\Documents\\Jupyter\\data"
   ]
  },
  {
   "cell_type": "code",
   "execution_count": 82,
   "metadata": {},
   "outputs": [],
   "source": [
    "f = open(\"myFile.txt\", \"w\")\n",
    "f.write(\"This is my first file.\")\n",
    "f.close()"
   ]
  },
  {
   "cell_type": "code",
   "execution_count": 83,
   "metadata": {},
   "outputs": [
    {
     "name": "stdout",
     "output_type": "stream",
     "text": [
      "This is my first file.\n"
     ]
    }
   ],
   "source": [
    "!type myFile.txt"
   ]
  },
  {
   "cell_type": "code",
   "execution_count": 84,
   "metadata": {},
   "outputs": [
    {
     "name": "stdout",
     "output_type": "stream",
     "text": [
      "This is my first file.\n"
     ]
    }
   ],
   "source": [
    "f = open(\"myFile.txt\", \"r\")\n",
    "file_text = f.read()\n",
    "f.close()\n",
    "\n",
    "print(file_text)"
   ]
  },
  {
   "cell_type": "code",
   "execution_count": 86,
   "metadata": {},
   "outputs": [
    {
     "name": "stdout",
     "output_type": "stream",
     "text": [
      "2 x 1 = 2\n",
      "2 x 2 = 4\n",
      "2 x 3 = 6\n",
      "2 x 4 = 8\n",
      "2 x 5 = 10\n"
     ]
    }
   ],
   "source": [
    "# 반복문을 이용해 파일 읽고 쓰기\n",
    "f = open(\"two_times_table.txt\", \"w\")\n",
    "for num in range(1,6):\n",
    "    strName = \"2 x {0} = {1}\\n\".format(num, 2*num)\n",
    "    f.write(strName)\n",
    "f.close()\n",
    "\n",
    "!type two_times_table.txt"
   ]
  },
  {
   "cell_type": "code",
   "execution_count": 91,
   "metadata": {},
   "outputs": [
    {
     "name": "stdout",
     "output_type": "stream",
     "text": [
      "2 x 1 = 2\n",
      "2 x 2 = 4\n"
     ]
    }
   ],
   "source": [
    "# readline : 한줄씩 읽기\n",
    "f = open(\"two_times_table.txt\") # 기본 mode는 읽기 모드\n",
    "line1 = f.readline()\n",
    "line2 = f.readline()\n",
    "f.close()\n",
    "print(line1, end=\"\") # 이미 줄바꿈이 있으므로 줄 바꿈이 중복되지 않도록 end=\"\"\n",
    "print(line2, end=\"\")"
   ]
  },
  {
   "cell_type": "code",
   "execution_count": 92,
   "metadata": {},
   "outputs": [
    {
     "name": "stdout",
     "output_type": "stream",
     "text": [
      "2 x 1 = 2\n",
      "2 x 2 = 4\n",
      "2 x 3 = 6\n",
      "2 x 4 = 8\n",
      "2 x 5 = 10\n"
     ]
    }
   ],
   "source": [
    "f = open(\"two_times_table.txt\") # 기본 mode는 읽기 모드\n",
    "line = f.readline()\n",
    "while line:\n",
    "    print(line, end=\"\")\n",
    "    line = f.readline()\n",
    "f.close()"
   ]
  },
  {
   "cell_type": "code",
   "execution_count": 95,
   "metadata": {},
   "outputs": [
    {
     "name": "stdout",
     "output_type": "stream",
     "text": [
      "['2 x 1 = 2\\n', '2 x 2 = 4\\n', '2 x 3 = 6\\n', '2 x 4 = 8\\n', '2 x 5 = 10\\n']\n"
     ]
    }
   ],
   "source": [
    "# readlines : 모든 라인을 읽어서 한 줄씩 요소로 갖는 리스트 타입으로 반환\n",
    "f= open(\"two_times_table.txt\")\n",
    "lines = f.readlines()\n",
    "f.close()\n",
    "\n",
    "print(lines)"
   ]
  },
  {
   "cell_type": "code",
   "execution_count": 96,
   "metadata": {},
   "outputs": [
    {
     "name": "stdout",
     "output_type": "stream",
     "text": [
      "2 x 1 = 2\n",
      "2 x 2 = 4\n",
      "2 x 3 = 6\n",
      "2 x 4 = 8\n",
      "2 x 5 = 10\n"
     ]
    }
   ],
   "source": [
    "f= open(\"two_times_table.txt\")\n",
    "lines = f.readlines()\n",
    "f.close()\n",
    "\n",
    "for line in lines:\n",
    "    print(line, end=\"\")"
   ]
  },
  {
   "cell_type": "code",
   "execution_count": 98,
   "metadata": {},
   "outputs": [
    {
     "name": "stdout",
     "output_type": "stream",
     "text": [
      "2 x 1 = 2\n",
      "2 x 2 = 4\n",
      "2 x 3 = 6\n",
      "2 x 4 = 8\n",
      "2 x 5 = 10\n"
     ]
    }
   ],
   "source": [
    "f= open(\"two_times_table.txt\")\n",
    "for line in f:\n",
    "    print(line, end=\"\")\n",
    "f.close()"
   ]
  },
  {
   "cell_type": "code",
   "execution_count": 100,
   "metadata": {},
   "outputs": [],
   "source": [
    "# with문을 이용해 파일 읽고 쓰기\n",
    "f = open(\"myFileWith.txt\", \"w\")\n",
    "f.write(\"File write/read test.\")\n",
    "f.close()"
   ]
  },
  {
   "cell_type": "code",
   "execution_count": 102,
   "metadata": {},
   "outputs": [
    {
     "name": "stdout",
     "output_type": "stream",
     "text": [
      "File write/read test.\n"
     ]
    }
   ],
   "source": [
    "f = open(\"myFileWith.txt\", \"r\")\n",
    "test = f.read()\n",
    "f.close()\n",
    "print(test)\n",
    "\n",
    "#지금까지 이용한 방법은 open 함수를 이용해 파일을 연 후에는 읽기나 쓰기가 끝난 후 close로 파일을 닫았음\n",
    "# with이용한다면 수행이 끝난 후 자동으로 파일을 닫음"
   ]
  },
  {
   "cell_type": "code",
   "execution_count": 107,
   "metadata": {},
   "outputs": [],
   "source": [
    "with open(\"myFileWith.txt\",\"w\") as f:\n",
    "    f.write(\"File read/write test2: line1\\n\")\n",
    "    f.write(\"File read/write test2: line2\\n\")\n",
    "    f.write(\"File read/write test2: line3\\n\")"
   ]
  },
  {
   "cell_type": "code",
   "execution_count": 108,
   "metadata": {},
   "outputs": [
    {
     "name": "stdout",
     "output_type": "stream",
     "text": [
      "File read/write test2: line1\n",
      "File read/write test2: line2\n",
      "File read/write test2: line3\n",
      "\n"
     ]
    }
   ],
   "source": [
    "with open(\"myFileWith.txt\") as f:\n",
    "    strName = f.read()\n",
    "    print(strName)"
   ]
  },
  {
   "cell_type": "code",
   "execution_count": 124,
   "metadata": {},
   "outputs": [],
   "source": [
    "with open(\"myFileWith3.txt\",\"w\") as f:\n",
    "    for num in range(1,6):\n",
    "        strName = \"3 x {0} = {1}\\n\".format(num, 3*num)\n",
    "        f.write(strName)"
   ]
  },
  {
   "cell_type": "code",
   "execution_count": 125,
   "metadata": {},
   "outputs": [
    {
     "name": "stdout",
     "output_type": "stream",
     "text": [
      "3 x 1 = 3\n",
      "3 x 2 = 6\n",
      "3 x 3 = 9\n",
      "3 x 4 = 12\n",
      "3 x 5 = 15\n"
     ]
    }
   ],
   "source": [
    "with open(\"myFileWith3.txt\") as f:\n",
    "    for line in f:\n",
    "        print(line, end=\"\")"
   ]
  },
  {
   "cell_type": "code",
   "execution_count": null,
   "metadata": {},
   "outputs": [],
   "source": []
  }
 ],
 "metadata": {
  "kernelspec": {
   "display_name": "Python 3",
   "language": "python",
   "name": "python3"
  },
  "language_info": {
   "codemirror_mode": {
    "name": "ipython",
    "version": 3
   },
   "file_extension": ".py",
   "mimetype": "text/x-python",
   "name": "python",
   "nbconvert_exporter": "python",
   "pygments_lexer": "ipython3",
   "version": "3.7.3"
  }
 },
 "nbformat": 4,
 "nbformat_minor": 2
}
