{
 "cells": [
  {
   "cell_type": "code",
   "execution_count": 23,
   "metadata": {},
   "outputs": [
    {
     "name": "stdout",
     "output_type": "stream",
     "text": [
      "10000\n",
      "0,1,1, 2, 3, 5, 8, 13, 21, 34, 55, 89, 144, 233, 377, 610, 987, 1597, 2584, 4181, 6765, "
     ]
    }
   ],
   "source": [
    "lim = input()\n",
    "lim_int = int(lim)\n",
    "first = 0\n",
    "second = 1\n",
    "print(\"{0},{1},\".format(first, second),  end=\"\")\n",
    "while True:\n",
    "    num = first + second\n",
    "    \n",
    "    if num > lim_int:\n",
    "        break\n",
    "        \n",
    "    print(\"{0}, \".format(num), end=\"\")\n",
    "    \n",
    "    first = second\n",
    "    second = num"
   ]
  },
  {
   "cell_type": "code",
   "execution_count": 20,
   "metadata": {},
   "outputs": [
    {
     "name": "stdout",
     "output_type": "stream",
     "text": [
      "10000\n",
      "0, 1, 1, 2, 3, 5, 8, 13, 21, 34, 55, 89, 144, 233, 377, 610, 987, 1597, 2584, 4181, 6765"
     ]
    }
   ],
   "source": [
    "lim = input()\n",
    "lim_int = int(lim)\n",
    "a=0;b=1\n",
    "print('0', end='')\n",
    "while b<=lim_int:\n",
    "    print(', %d'%b, end='')\n",
    "    a,b = b,a+b"
   ]
  },
  {
   "cell_type": "code",
   "execution_count": null,
   "metadata": {},
   "outputs": [],
   "source": []
  }
 ],
 "metadata": {
  "kernelspec": {
   "display_name": "Python 3",
   "language": "python",
   "name": "python3"
  },
  "language_info": {
   "codemirror_mode": {
    "name": "ipython",
    "version": 3
   },
   "file_extension": ".py",
   "mimetype": "text/x-python",
   "name": "python",
   "nbconvert_exporter": "python",
   "pygments_lexer": "ipython3",
   "version": "3.7.3"
  }
 },
 "nbformat": 4,
 "nbformat_minor": 2
}
